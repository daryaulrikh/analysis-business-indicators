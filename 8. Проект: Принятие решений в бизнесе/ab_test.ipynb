{
 "cells": [
  {
   "cell_type": "markdown",
   "metadata": {},
   "source": [
    "# Проект: Принятие решений в бизнесе"
   ]
  },
  {
   "cell_type": "markdown",
   "metadata": {},
   "source": [
    "## часть"
   ]
  },
  {
   "cell_type": "markdown",
   "metadata": {},
   "source": [
    "Анализ крупного интернет-магазина. Вместе с отделом маркетинга подготовлен список гипотез для увеличения выручки.\n",
    "Приоритизируем гипотезы, запустим A/B-тест далее проанализируем результаты. <br><br>\n",
    "**Задачи:**<br>\n",
    "Применим фреймворк ICE для приоритизации гипотез. Отсортируем их по убыванию приоритета.<br><br>\n",
    "Применим фреймворк RICE для приоритизации гипотез. Отсортируем их по убыванию приоритета.<br>\n",
    "Укажим, как изменилась приоритизация гипотез при применении RICE вместо ICE. Объясним, почему так произошло.<br><br>\n",
    "\n",
    "**Данные для первой части:**<br>\n",
    "Датасет содержит содержит: <br>\n",
    "-Hypothesis — краткое описание гипотезы;<br>\n",
    "-Reach — охват пользователей по 10-балльной шкале;<br>\n",
    "-Impact — влияние на пользователей по 10-балльной шкале;<br>\n",
    "-Confidence — уверенность в гипотезе по 10-балльной шкале;<br>\n",
    "-Efforts — затраты ресурсов на проверку гипотезы по 10-балльной шкале. Чем больше значение Efforts, тем дороже проверка гипотезы."
   ]
  },
  {
   "cell_type": "code",
   "execution_count": 2,
   "metadata": {},
   "outputs": [],
   "source": [
    "#Импортируем все библиотеки, которые нужны для первой части\n",
    "import pandas as pd\n",
    "import scipy.stats as stats\n",
    "import datetime as dt\n",
    "import numpy as np\n",
    "import matplotlib.pyplot as plt\n",
    "from pandas.plotting import register_matplotlib_converters\n",
    "import warnings"
   ]
  },
  {
   "cell_type": "markdown",
   "metadata": {},
   "source": [
    "**Примените фреймворк ICE для приоритизации гипотез. Отсортируйте их по убыванию приоритета.**"
   ]
  },
  {
   "cell_type": "code",
   "execution_count": 3,
   "metadata": {},
   "outputs": [
    {
     "name": "stdout",
     "output_type": "stream",
     "text": [
      "                                          Hypothesis        ICE\n",
      "8  Запустить акцию, дающую скидку на товар в день...  16.200000\n",
      "0  Добавить два новых канала привлечения трафика,...  13.333333\n",
      "7  Добавить форму подписки на все основные страни...  11.200000\n",
      "6  Показать на главной странице баннеры с актуаль...   8.000000\n",
      "2  Добавить блоки рекомендаций товаров на сайт ин...   7.000000\n",
      "1  Запустить собственную службу доставки, что сок...   2.000000\n",
      "5  Добавить страницу отзывов клиентов о магазине,...   1.333333\n",
      "3  Изменить структура категорий, что увеличит кон...   1.125000\n",
      "4  Изменить цвет фона главной страницы, чтобы уве...   1.000000\n"
     ]
    }
   ],
   "source": [
    "data_hyp ['ICE'] = data_hyp ['Impact'] * data_hyp ['Confidence'] / data_hyp ['Efforts']\n",
    "\n",
    "print(data_hyp [['Hypothesis', 'ICE']].sort_values('ICE', ascending=False))"
   ]
  },
  {
   "cell_type": "markdown",
   "metadata": {},
   "source": [
    "<i>Наиболее перспективные гипотезы по ICE: 8, 0, 7. <i>"
   ]
  },
  {
   "cell_type": "markdown",
   "metadata": {},
   "source": [
    "**Примените фреймворк RICE для приоритизации гипотез. Отсортируйте их по убыванию приоритета.**"
   ]
  },
  {
   "cell_type": "code",
   "execution_count": 4,
   "metadata": {},
   "outputs": [
    {
     "name": "stdout",
     "output_type": "stream",
     "text": [
      "                                          Hypothesis   RICE\n",
      "7  Добавить форму подписки на все основные страни...  112.0\n",
      "2  Добавить блоки рекомендаций товаров на сайт ин...   56.0\n",
      "0  Добавить два новых канала привлечения трафика,...   40.0\n",
      "6  Показать на главной странице баннеры с актуаль...   40.0\n",
      "8  Запустить акцию, дающую скидку на товар в день...   16.2\n",
      "3  Изменить структура категорий, что увеличит кон...    9.0\n",
      "1  Запустить собственную службу доставки, что сок...    4.0\n",
      "5  Добавить страницу отзывов клиентов о магазине,...    4.0\n",
      "4  Изменить цвет фона главной страницы, чтобы уве...    3.0\n"
     ]
    }
   ],
   "source": [
    "data_hyp ['RICE'] = data_hyp ['Reach'] * data_hyp ['Impact'] * data_hyp ['Confidence'] / data_hyp ['Efforts']\n",
    "\n",
    "print(data_hyp [['Hypothesis','RICE']].sort_values('RICE', ascending=False))"
   ]
  },
  {
   "cell_type": "markdown",
   "metadata": {},
   "source": [
    "<i>Теперь наиболее перспективные гипотезы по ICE: 7, 2, 0. Однако на первом месте с  большим отрывом уже гипотеза 7, так получилось, потому что ее параметр Reach 10, в то время как у других гипотехз оно меньше.<i>"
   ]
  },
  {
   "cell_type": "markdown",
   "metadata": {},
   "source": [
    "**Выберем 7 гипотезу :**<br>\n",
    "\"Добавить форму подписки на все основные страницы, чтобы собрать базу клиентов для email-рассылок\""
   ]
  },
  {
   "cell_type": "markdown",
   "metadata": {},
   "source": [
    "## часть"
   ]
  },
  {
   "cell_type": "markdown",
   "metadata": {},
   "source": [
    "Мы провели A/B-тест и получили результаты, которые описаны в файлах /datasets/orders.csv и /datasets/visitors.csv."
   ]
  },
  {
   "cell_type": "markdown",
   "metadata": {},
   "source": [
    "**Задачи, которые нужно выполнить, а затем сделать выводы и предположения.** <br><br>\n",
    "**Проанализируем A/B-тест и построим:**<br>\n",
    "1) График кумулятивной выручки по группам. <br>\n",
    "2) График кумулятивного среднего чека по группам. <br>\n",
    "3) График относительного изменения кумулятивного среднего чека группы B к группе A. <br>\n",
    "4) График кумулятивного среднего количества заказов на посетителя по группам. <br>\n",
    "5) График относительного изменения кумулятивного среднего количества заказов на посетителя группы B к группе A. <br>\n",
    "<br>\n",
    "**После построения точечных графиков и подсчета персентилей сделаем выводы и предположения опираясь на:**<br>\n",
    "1) Точечный график количества заказов по пользователям.<br> 95-й и 99-й перцентили количества заказов на пользователя. Выберем границу для определения аномальных пользователей.<br>\n",
    "2) Построим точечный график стоимостей заказов. 95-й и 99-й перцентили стоимости заказов. Выберем границу для определения аномальных заказов.<br><br>\n",
    "\n",
    "**Далее найдем статистические различия по сырым и очищенным данным:**\n",
    "1) Статистическая значимость различий в среднем количестве заказов на посетителя между группами по «сырым» данным.<br>\n",
    "2) Статистическая значимость различий в среднем чеке заказа между группами по «сырым» данным. <br>\n",
    "3) Статистическая значимость различий в среднем количестве заказов на посетителя между группами по «очищенным» данным.<br>\n",
    "4) Статистическая значимость различий в среднем чеке заказа между группами по «очищенным» данным. <br> <br>\n",
    "\n",
    "**После всего этого примим решение по результатам теста и объясним его. <br>\n",
    "Варианты решений:**<br>\n",
    "1. Остановить тест, зафиксировать победу одной из групп.<br>\n",
    "2. Остановить тест, зафиксировать отсутствие различий между группами.<br>\n",
    "3. Продолжить тест.<br>"
   ]
  },
  {
   "cell_type": "code",
   "execution_count": 6,
   "metadata": {},
   "outputs": [
    {
     "data": {
      "text/html": [
       "<div>\n",
       "<style scoped>\n",
       "    .dataframe tbody tr th:only-of-type {\n",
       "        vertical-align: middle;\n",
       "    }\n",
       "\n",
       "    .dataframe tbody tr th {\n",
       "        vertical-align: top;\n",
       "    }\n",
       "\n",
       "    .dataframe thead th {\n",
       "        text-align: right;\n",
       "    }\n",
       "</style>\n",
       "<table border=\"1\" class=\"dataframe\">\n",
       "  <thead>\n",
       "    <tr style=\"text-align: right;\">\n",
       "      <th></th>\n",
       "      <th>date</th>\n",
       "      <th>group</th>\n",
       "      <th>visitors</th>\n",
       "    </tr>\n",
       "  </thead>\n",
       "  <tbody>\n",
       "    <tr>\n",
       "      <th>0</th>\n",
       "      <td>2019-08-01</td>\n",
       "      <td>A</td>\n",
       "      <td>719</td>\n",
       "    </tr>\n",
       "    <tr>\n",
       "      <th>1</th>\n",
       "      <td>2019-08-02</td>\n",
       "      <td>A</td>\n",
       "      <td>619</td>\n",
       "    </tr>\n",
       "    <tr>\n",
       "      <th>2</th>\n",
       "      <td>2019-08-03</td>\n",
       "      <td>A</td>\n",
       "      <td>507</td>\n",
       "    </tr>\n",
       "    <tr>\n",
       "      <th>3</th>\n",
       "      <td>2019-08-04</td>\n",
       "      <td>A</td>\n",
       "      <td>717</td>\n",
       "    </tr>\n",
       "    <tr>\n",
       "      <th>4</th>\n",
       "      <td>2019-08-05</td>\n",
       "      <td>A</td>\n",
       "      <td>756</td>\n",
       "    </tr>\n",
       "  </tbody>\n",
       "</table>\n",
       "</div>"
      ],
      "text/plain": [
       "        date group  visitors\n",
       "0 2019-08-01     A       719\n",
       "1 2019-08-02     A       619\n",
       "2 2019-08-03     A       507\n",
       "3 2019-08-04     A       717\n",
       "4 2019-08-05     A       756"
      ]
     },
     "execution_count": 6,
     "metadata": {},
     "output_type": "execute_result"
    }
   ],
   "source": [
    "visitors.head()"
   ]
  },
  {
   "cell_type": "code",
   "execution_count": 7,
   "metadata": {},
   "outputs": [
    {
     "data": {
      "text/html": [
       "<div>\n",
       "<style scoped>\n",
       "    .dataframe tbody tr th:only-of-type {\n",
       "        vertical-align: middle;\n",
       "    }\n",
       "\n",
       "    .dataframe tbody tr th {\n",
       "        vertical-align: top;\n",
       "    }\n",
       "\n",
       "    .dataframe thead th {\n",
       "        text-align: right;\n",
       "    }\n",
       "</style>\n",
       "<table border=\"1\" class=\"dataframe\">\n",
       "  <thead>\n",
       "    <tr style=\"text-align: right;\">\n",
       "      <th></th>\n",
       "      <th>transactionId</th>\n",
       "      <th>visitorId</th>\n",
       "      <th>date</th>\n",
       "      <th>revenue</th>\n",
       "      <th>group</th>\n",
       "    </tr>\n",
       "  </thead>\n",
       "  <tbody>\n",
       "    <tr>\n",
       "      <th>0</th>\n",
       "      <td>3667963787</td>\n",
       "      <td>3312258926</td>\n",
       "      <td>2019-08-15</td>\n",
       "      <td>1650</td>\n",
       "      <td>B</td>\n",
       "    </tr>\n",
       "    <tr>\n",
       "      <th>1</th>\n",
       "      <td>2804400009</td>\n",
       "      <td>3642806036</td>\n",
       "      <td>2019-08-15</td>\n",
       "      <td>730</td>\n",
       "      <td>B</td>\n",
       "    </tr>\n",
       "    <tr>\n",
       "      <th>2</th>\n",
       "      <td>2961555356</td>\n",
       "      <td>4069496402</td>\n",
       "      <td>2019-08-15</td>\n",
       "      <td>400</td>\n",
       "      <td>A</td>\n",
       "    </tr>\n",
       "    <tr>\n",
       "      <th>3</th>\n",
       "      <td>3797467345</td>\n",
       "      <td>1196621759</td>\n",
       "      <td>2019-08-15</td>\n",
       "      <td>9759</td>\n",
       "      <td>B</td>\n",
       "    </tr>\n",
       "    <tr>\n",
       "      <th>4</th>\n",
       "      <td>2282983706</td>\n",
       "      <td>2322279887</td>\n",
       "      <td>2019-08-15</td>\n",
       "      <td>2308</td>\n",
       "      <td>B</td>\n",
       "    </tr>\n",
       "  </tbody>\n",
       "</table>\n",
       "</div>"
      ],
      "text/plain": [
       "   transactionId   visitorId       date  revenue group\n",
       "0     3667963787  3312258926 2019-08-15     1650     B\n",
       "1     2804400009  3642806036 2019-08-15      730     B\n",
       "2     2961555356  4069496402 2019-08-15      400     A\n",
       "3     3797467345  1196621759 2019-08-15     9759     B\n",
       "4     2282983706  2322279887 2019-08-15     2308     B"
      ]
     },
     "execution_count": 7,
     "metadata": {},
     "output_type": "execute_result"
    }
   ],
   "source": [
    "orders.head()"
   ]
  },
  {
   "cell_type": "code",
   "execution_count": 8,
   "metadata": {},
   "outputs": [
    {
     "name": "stdout",
     "output_type": "stream",
     "text": [
      "<class 'pandas.core.frame.DataFrame'>\n",
      "RangeIndex: 62 entries, 0 to 61\n",
      "Data columns (total 3 columns):\n",
      " #   Column    Non-Null Count  Dtype         \n",
      "---  ------    --------------  -----         \n",
      " 0   date      62 non-null     datetime64[ns]\n",
      " 1   group     62 non-null     object        \n",
      " 2   visitors  62 non-null     int64         \n",
      "dtypes: datetime64[ns](1), int64(1), object(1)\n",
      "memory usage: 1.6+ KB\n"
     ]
    }
   ],
   "source": [
    "visitors.info()"
   ]
  },
  {
   "cell_type": "code",
   "execution_count": 9,
   "metadata": {},
   "outputs": [
    {
     "name": "stdout",
     "output_type": "stream",
     "text": [
      "<class 'pandas.core.frame.DataFrame'>\n",
      "RangeIndex: 1197 entries, 0 to 1196\n",
      "Data columns (total 5 columns):\n",
      " #   Column         Non-Null Count  Dtype         \n",
      "---  ------         --------------  -----         \n",
      " 0   transactionId  1197 non-null   int64         \n",
      " 1   visitorId      1197 non-null   int64         \n",
      " 2   date           1197 non-null   datetime64[ns]\n",
      " 3   revenue        1197 non-null   int64         \n",
      " 4   group          1197 non-null   object        \n",
      "dtypes: datetime64[ns](1), int64(3), object(1)\n",
      "memory usage: 46.9+ KB\n"
     ]
    }
   ],
   "source": [
    "orders.info()"
   ]
  },
  {
   "cell_type": "markdown",
   "metadata": {},
   "source": [
    "<i>Таблицы без пропусков в данных.<i>"
   ]
  },
  {
   "cell_type": "code",
   "execution_count": 10,
   "metadata": {},
   "outputs": [
    {
     "data": {
      "text/plain": [
       "0"
      ]
     },
     "execution_count": 10,
     "metadata": {},
     "output_type": "execute_result"
    }
   ],
   "source": [
    "#Проверим данные на дубликаты:\n",
    "orders.duplicated().sum()"
   ]
  },
  {
   "cell_type": "markdown",
   "metadata": {},
   "source": [
    "<i>Явных дубликатов нет.<i>"
   ]
  },
  {
   "cell_type": "code",
   "execution_count": 11,
   "metadata": {},
   "outputs": [
    {
     "data": {
      "text/html": [
       "<div>\n",
       "<style scoped>\n",
       "    .dataframe tbody tr th:only-of-type {\n",
       "        vertical-align: middle;\n",
       "    }\n",
       "\n",
       "    .dataframe tbody tr th {\n",
       "        vertical-align: top;\n",
       "    }\n",
       "\n",
       "    .dataframe thead th {\n",
       "        text-align: right;\n",
       "    }\n",
       "</style>\n",
       "<table border=\"1\" class=\"dataframe\">\n",
       "  <thead>\n",
       "    <tr style=\"text-align: right;\">\n",
       "      <th></th>\n",
       "      <th>transactionId</th>\n",
       "      <th>visitorId</th>\n",
       "      <th>date</th>\n",
       "      <th>revenue</th>\n",
       "      <th>group</th>\n",
       "    </tr>\n",
       "  </thead>\n",
       "  <tbody>\n",
       "    <tr>\n",
       "      <th>703</th>\n",
       "      <td>4293855558</td>\n",
       "      <td>8300375</td>\n",
       "      <td>2019-08-07</td>\n",
       "      <td>1790</td>\n",
       "      <td>A</td>\n",
       "    </tr>\n",
       "    <tr>\n",
       "      <th>71</th>\n",
       "      <td>3679129301</td>\n",
       "      <td>8300375</td>\n",
       "      <td>2019-08-01</td>\n",
       "      <td>10510</td>\n",
       "      <td>B</td>\n",
       "    </tr>\n",
       "    <tr>\n",
       "      <th>823</th>\n",
       "      <td>2971973105</td>\n",
       "      <td>199603092</td>\n",
       "      <td>2019-08-27</td>\n",
       "      <td>2790</td>\n",
       "      <td>A</td>\n",
       "    </tr>\n",
       "    <tr>\n",
       "      <th>246</th>\n",
       "      <td>437656952</td>\n",
       "      <td>199603092</td>\n",
       "      <td>2019-08-02</td>\n",
       "      <td>3488</td>\n",
       "      <td>B</td>\n",
       "    </tr>\n",
       "    <tr>\n",
       "      <th>26</th>\n",
       "      <td>2223239646</td>\n",
       "      <td>199603092</td>\n",
       "      <td>2019-08-15</td>\n",
       "      <td>3488</td>\n",
       "      <td>A</td>\n",
       "    </tr>\n",
       "    <tr>\n",
       "      <th>...</th>\n",
       "      <td>...</td>\n",
       "      <td>...</td>\n",
       "      <td>...</td>\n",
       "      <td>...</td>\n",
       "      <td>...</td>\n",
       "    </tr>\n",
       "    <tr>\n",
       "      <th>187</th>\n",
       "      <td>2048878902</td>\n",
       "      <td>4256040402</td>\n",
       "      <td>2019-08-17</td>\n",
       "      <td>1550</td>\n",
       "      <td>A</td>\n",
       "    </tr>\n",
       "    <tr>\n",
       "      <th>114</th>\n",
       "      <td>1120327437</td>\n",
       "      <td>4256040402</td>\n",
       "      <td>2019-08-01</td>\n",
       "      <td>5800</td>\n",
       "      <td>A</td>\n",
       "    </tr>\n",
       "    <tr>\n",
       "      <th>60</th>\n",
       "      <td>1421016313</td>\n",
       "      <td>4256040402</td>\n",
       "      <td>2019-08-16</td>\n",
       "      <td>56650</td>\n",
       "      <td>B</td>\n",
       "    </tr>\n",
       "    <tr>\n",
       "      <th>662</th>\n",
       "      <td>1811671147</td>\n",
       "      <td>4266935830</td>\n",
       "      <td>2019-08-29</td>\n",
       "      <td>78990</td>\n",
       "      <td>A</td>\n",
       "    </tr>\n",
       "    <tr>\n",
       "      <th>682</th>\n",
       "      <td>1216533772</td>\n",
       "      <td>4266935830</td>\n",
       "      <td>2019-08-29</td>\n",
       "      <td>78990</td>\n",
       "      <td>B</td>\n",
       "    </tr>\n",
       "  </tbody>\n",
       "</table>\n",
       "<p>181 rows × 5 columns</p>\n",
       "</div>"
      ],
      "text/plain": [
       "     transactionId   visitorId       date  revenue group\n",
       "703     4293855558     8300375 2019-08-07     1790     A\n",
       "71      3679129301     8300375 2019-08-01    10510     B\n",
       "823     2971973105   199603092 2019-08-27     2790     A\n",
       "246      437656952   199603092 2019-08-02     3488     B\n",
       "26      2223239646   199603092 2019-08-15     3488     A\n",
       "..             ...         ...        ...      ...   ...\n",
       "187     2048878902  4256040402 2019-08-17     1550     A\n",
       "114     1120327437  4256040402 2019-08-01     5800     A\n",
       "60      1421016313  4256040402 2019-08-16    56650     B\n",
       "662     1811671147  4266935830 2019-08-29    78990     A\n",
       "682     1216533772  4266935830 2019-08-29    78990     B\n",
       "\n",
       "[181 rows x 5 columns]"
      ]
     },
     "execution_count": 11,
     "metadata": {},
     "output_type": "execute_result"
    }
   ],
   "source": [
    "visitor_A = orders[orders['group'] == 'A']['visitorId']\n",
    "visitor_B = orders[orders['group'] == 'B']['visitorId']\n",
    "dubl = orders.query('visitorId in @visitor_A and visitorId in @visitor_B')\n",
    "dubl.sort_values('visitorId')\n"
   ]
  },
  {
   "cell_type": "code",
   "execution_count": 12,
   "metadata": {},
   "outputs": [
    {
     "name": "stdout",
     "output_type": "stream",
     "text": [
      "Процент пользователей, которые оказались в обоих группах одновременно:  15\n"
     ]
    }
   ],
   "source": [
    "print('Процент пользователей, которые оказались в обоих группах одновременно: ', round(len(dubl) / len(orders) * 100))"
   ]
  },
  {
   "cell_type": "markdown",
   "metadata": {},
   "source": [
    "<i>Есть неявные дубликаты, процент таких дубликатов не маленький (около 15%), но мы конкретно не знаем, в какой конректной группе нужно оставить пользователя, поэтому удалим эти данные.<i>"
   ]
  },
  {
   "cell_type": "code",
   "execution_count": 13,
   "metadata": {},
   "outputs": [],
   "source": [
    "orders = orders.query('visitorId not in @dubl[\"visitorId\"]')\n"
   ]
  },
  {
   "cell_type": "markdown",
   "metadata": {},
   "source": [
    "**Соберем все нужные кумулятивные данные:**"
   ]
  },
  {
   "cell_type": "markdown",
   "metadata": {},
   "source": [
    "**Названия столбцов данных (куммулятивные метрики):<br>**\n",
    "date — дата;<br>\n",
    "ordersPerDateA — количество заказов в выбранную дату в группе A;<br>\n",
    "revenuePerDateA — суммарная выручка в выбранную дату в группе A;<br>\n",
    "ordersPerDateB — количество заказов в выбранную дату в группе B;<br>\n",
    "revenuePerDateB — суммарная выручка в выбранную дату в группе B;<br>\n",
    "ordersCummulativeA — суммарное число заказов до выбранной даты включительно в группе A;<br>\n",
    "revenueCummulativeA — суммарная выручка до выбранной даты включительно в группе A;<br>\n",
    "ordersCummulativeB — суммарное количество заказов до выбранной даты включительно в группе B;<br>\n",
    "revenueCummulativeB — суммарная выручка до выбранной даты включительно в группе B;<br>\n",
    "visitorsPerDateA — количество пользователей в выбранную дату в группе A;<br>\n",
    "visitorsPerDateB — количество пользователей в выбранную дату в группе B;<br>\n",
    "visitorsCummulativeA — количество пользователей до выбранной даты включительно в группе A;<br>\n",
    "visitorsCummulativeB — количество пользователей до выбранной даты включительно в группе B.<br>"
   ]
  },
  {
   "cell_type": "code",
   "execution_count": 14,
   "metadata": {},
   "outputs": [
    {
     "data": {
      "text/html": [
       "<div>\n",
       "<style scoped>\n",
       "    .dataframe tbody tr th:only-of-type {\n",
       "        vertical-align: middle;\n",
       "    }\n",
       "\n",
       "    .dataframe tbody tr th {\n",
       "        vertical-align: top;\n",
       "    }\n",
       "\n",
       "    .dataframe thead th {\n",
       "        text-align: right;\n",
       "    }\n",
       "</style>\n",
       "<table border=\"1\" class=\"dataframe\">\n",
       "  <thead>\n",
       "    <tr style=\"text-align: right;\">\n",
       "      <th></th>\n",
       "      <th>date</th>\n",
       "      <th>ordersPerDateA</th>\n",
       "      <th>revenuePerDateA</th>\n",
       "      <th>ordersPerDateB</th>\n",
       "      <th>revenuePerDateB</th>\n",
       "      <th>ordersCummulativeA</th>\n",
       "      <th>revenueCummulativeA</th>\n",
       "      <th>ordersCummulativeB</th>\n",
       "      <th>revenueCummulativeB</th>\n",
       "      <th>visitorsPerDateA</th>\n",
       "      <th>visitorsPerDateB</th>\n",
       "      <th>visitorsCummulativeA</th>\n",
       "      <th>visitorsCummulativeB</th>\n",
       "    </tr>\n",
       "  </thead>\n",
       "  <tbody>\n",
       "    <tr>\n",
       "      <th>0</th>\n",
       "      <td>2019-08-01</td>\n",
       "      <td>23</td>\n",
       "      <td>142779</td>\n",
       "      <td>17</td>\n",
       "      <td>59758</td>\n",
       "      <td>23</td>\n",
       "      <td>142779</td>\n",
       "      <td>17</td>\n",
       "      <td>59758</td>\n",
       "      <td>719</td>\n",
       "      <td>713</td>\n",
       "      <td>719</td>\n",
       "      <td>713</td>\n",
       "    </tr>\n",
       "    <tr>\n",
       "      <th>1</th>\n",
       "      <td>2019-08-02</td>\n",
       "      <td>19</td>\n",
       "      <td>91602</td>\n",
       "      <td>23</td>\n",
       "      <td>162043</td>\n",
       "      <td>42</td>\n",
       "      <td>234381</td>\n",
       "      <td>40</td>\n",
       "      <td>221801</td>\n",
       "      <td>619</td>\n",
       "      <td>581</td>\n",
       "      <td>1338</td>\n",
       "      <td>1294</td>\n",
       "    </tr>\n",
       "    <tr>\n",
       "      <th>2</th>\n",
       "      <td>2019-08-03</td>\n",
       "      <td>24</td>\n",
       "      <td>112473</td>\n",
       "      <td>14</td>\n",
       "      <td>67049</td>\n",
       "      <td>66</td>\n",
       "      <td>346854</td>\n",
       "      <td>54</td>\n",
       "      <td>288850</td>\n",
       "      <td>507</td>\n",
       "      <td>509</td>\n",
       "      <td>1845</td>\n",
       "      <td>1803</td>\n",
       "    </tr>\n",
       "    <tr>\n",
       "      <th>3</th>\n",
       "      <td>2019-08-04</td>\n",
       "      <td>11</td>\n",
       "      <td>41176</td>\n",
       "      <td>14</td>\n",
       "      <td>96890</td>\n",
       "      <td>77</td>\n",
       "      <td>388030</td>\n",
       "      <td>68</td>\n",
       "      <td>385740</td>\n",
       "      <td>717</td>\n",
       "      <td>770</td>\n",
       "      <td>2562</td>\n",
       "      <td>2573</td>\n",
       "    </tr>\n",
       "    <tr>\n",
       "      <th>4</th>\n",
       "      <td>2019-08-05</td>\n",
       "      <td>22</td>\n",
       "      <td>86383</td>\n",
       "      <td>21</td>\n",
       "      <td>89908</td>\n",
       "      <td>99</td>\n",
       "      <td>474413</td>\n",
       "      <td>89</td>\n",
       "      <td>475648</td>\n",
       "      <td>756</td>\n",
       "      <td>707</td>\n",
       "      <td>3318</td>\n",
       "      <td>3280</td>\n",
       "    </tr>\n",
       "  </tbody>\n",
       "</table>\n",
       "</div>"
      ],
      "text/plain": [
       "        date  ordersPerDateA  revenuePerDateA  ordersPerDateB  \\\n",
       "0 2019-08-01              23           142779              17   \n",
       "1 2019-08-02              19            91602              23   \n",
       "2 2019-08-03              24           112473              14   \n",
       "3 2019-08-04              11            41176              14   \n",
       "4 2019-08-05              22            86383              21   \n",
       "\n",
       "   revenuePerDateB  ordersCummulativeA  revenueCummulativeA  \\\n",
       "0            59758                  23               142779   \n",
       "1           162043                  42               234381   \n",
       "2            67049                  66               346854   \n",
       "3            96890                  77               388030   \n",
       "4            89908                  99               474413   \n",
       "\n",
       "   ordersCummulativeB  revenueCummulativeB  visitorsPerDateA  \\\n",
       "0                  17                59758               719   \n",
       "1                  40               221801               619   \n",
       "2                  54               288850               507   \n",
       "3                  68               385740               717   \n",
       "4                  89               475648               756   \n",
       "\n",
       "   visitorsPerDateB  visitorsCummulativeA  visitorsCummulativeB  \n",
       "0               713                   719                   713  \n",
       "1               581                  1338                  1294  \n",
       "2               509                  1845                  1803  \n",
       "3               770                  2562                  2573  \n",
       "4               707                  3318                  3280  "
      ]
     },
     "execution_count": 14,
     "metadata": {},
     "output_type": "execute_result"
    }
   ],
   "source": [
    "visitorsADaily = visitors[visitors['group'] == 'A'][['date', 'visitors']]\n",
    "visitorsADaily.columns = ['date', 'visitorsPerDateA']\n",
    "\n",
    "visitorsACummulative = visitorsADaily.apply(\n",
    "    lambda x: visitorsADaily[visitorsADaily['date'] <= x['date']].agg(\n",
    "        {'date': 'max', 'visitorsPerDateA': 'sum'}\n",
    "    ),\n",
    "    axis=1,\n",
    ")\n",
    "visitorsACummulative.columns = ['date', 'visitorsCummulativeA']\n",
    "\n",
    "visitorsBDaily = visitors[visitors['group'] == 'B'][['date', 'visitors']]\n",
    "visitorsBDaily.columns = ['date', 'visitorsPerDateB']\n",
    "\n",
    "visitorsBCummulative = visitorsBDaily.apply(\n",
    "    lambda x: visitorsBDaily[visitorsBDaily['date'] <= x['date']].agg(\n",
    "        {'date': 'max', 'visitorsPerDateB': 'sum'}\n",
    "    ),\n",
    "    axis=1,\n",
    ")\n",
    "visitorsBCummulative.columns = ['date', 'visitorsCummulativeB']\n",
    "\n",
    "ordersADaily = (\n",
    "    orders[orders['group'] == 'A'][['date', 'transactionId', 'visitorId', 'revenue']]\n",
    "    .groupby('date', as_index=False)\n",
    "    .agg({'transactionId': pd.Series.nunique, 'revenue': 'sum'})\n",
    ")\n",
    "ordersADaily.columns = ['date', 'ordersPerDateA', 'revenuePerDateA']\n",
    "\n",
    "ordersACummulative = ordersADaily.apply(\n",
    "    lambda x: ordersADaily[ordersADaily['date'] <= x['date']].agg(\n",
    "        {'date': 'max', 'ordersPerDateA': 'sum', 'revenuePerDateA': 'sum'}\n",
    "    ),\n",
    "    axis=1,\n",
    ").sort_values(by=['date'])\n",
    "ordersACummulative.columns = [\n",
    "    'date',\n",
    "    'ordersCummulativeA',\n",
    "    'revenueCummulativeA',\n",
    "]\n",
    "\n",
    "ordersBDaily = (\n",
    "    orders[orders['group'] == 'B'][['date', 'transactionId', 'visitorId', 'revenue']]\n",
    "    .groupby('date', as_index=False)\n",
    "    .agg({'transactionId': pd.Series.nunique, 'revenue': 'sum'})\n",
    ")\n",
    "ordersBDaily.columns = ['date', 'ordersPerDateB', 'revenuePerDateB']\n",
    "\n",
    "ordersBCummulative = ordersBDaily.apply(\n",
    "    lambda x: ordersBDaily[ordersBDaily['date'] <= x['date']].agg(\n",
    "        {'date': 'max', 'ordersPerDateB': 'sum', 'revenuePerDateB': 'sum'}\n",
    "    ),\n",
    "    axis=1,\n",
    ").sort_values(by=['date'])\n",
    "ordersBCummulative.columns = [\n",
    "    'date',\n",
    "    'ordersCummulativeB',\n",
    "    'revenueCummulativeB',\n",
    "]\n",
    "\n",
    "data = (\n",
    "    ordersADaily.merge(\n",
    "        ordersBDaily, left_on='date', right_on='date', how='left'\n",
    "    )\n",
    "    .merge(ordersACummulative, left_on='date', right_on='date', how='left')\n",
    "    .merge(ordersBCummulative, left_on='date', right_on='date', how='left')\n",
    "    .merge(visitorsADaily, left_on='date', right_on='date', how='left')\n",
    "    .merge(visitorsBDaily, left_on='date', right_on='date', how='left')\n",
    "    .merge(visitorsACummulative, left_on='date', right_on='date', how='left')\n",
    "    .merge(visitorsBCummulative, left_on='date', right_on='date', how='left')\n",
    ")\n",
    "\n",
    "data.head(5)"
   ]
  },
  {
   "cell_type": "markdown",
   "metadata": {},
   "source": [
    "**1) Построим график кумулятивной выручки по группам.**"
   ]
  },
  {
   "cell_type": "code",
   "execution_count": 15,
   "metadata": {},
   "outputs": [
    {
     "data": {
      "text/plain": [
       "Text(0.5, 1.0, 'Кумулятивная выручки по группам')"
      ]
     },
     "execution_count": 15,
     "metadata": {},
     "output_type": "execute_result"
    },
    {
     "data": {
      "image/png": "[encoded data removed]",
      "text/plain": [
       "<Figure size 432x288 with 1 Axes>"
      ]
     },
     "metadata": {
      "needs_background": "light"
     },
     "output_type": "display_data"
    }
   ],
   "source": [
    "plt.plot(data['date'], data['ordersCummulativeA'], label='A')\n",
    "\n",
    "\n",
    "plt.plot(data['date'], data['ordersCummulativeB'], label='B')\n",
    "\n",
    "plt.legend() \n",
    "plt.xlabel(\"Даты\")\n",
    "plt.ylabel(\"Выручка\")\n",
    "plt.xticks(rotation=90)\n",
    "plt.title(\"Кумулятивная выручки по группам\")"
   ]
  },
  {
   "cell_type": "markdown",
   "metadata": {},
   "source": [
    "<i>В самом начале теста сегмент В вырвался вперед и продолжал с небольшим отрывом лидировать весь остаток теста.<i>"
   ]
  },
  {
   "cell_type": "markdown",
   "metadata": {},
   "source": [
    "**2) Построим график кумулятивного среднего чека по группам:**"
   ]
  },
  {
   "cell_type": "code",
   "execution_count": 16,
   "metadata": {},
   "outputs": [
    {
     "data": {
      "text/plain": [
       "Text(0.5, 1.0, 'Кумулятивный средний чек по группам')"
      ]
     },
     "execution_count": 16,
     "metadata": {},
     "output_type": "execute_result"
    },
    {
     "data": {
      "image/png": "[encoded data removed]",
      "text/plain": [
       "<Figure size 432x288 with 1 Axes>"
      ]
     },
     "metadata": {
      "needs_background": "light"
     },
     "output_type": "display_data"
    }
   ],
   "source": [
    "plt.plot(data['date'], data['revenueCummulativeA']/data['ordersCummulativeA'], label='A')\n",
    "plt.plot(data['date'], data['revenueCummulativeB']/data['ordersCummulativeB'], label='B')\n",
    "plt.legend()\n",
    "plt.xlabel(\"Даты\")\n",
    "plt.ylabel(\"Выручка\")\n",
    "plt.xticks(rotation=90)\n",
    "plt.title(\"Кумулятивный средний чек по группам\")"
   ]
  },
  {
   "cell_type": "markdown",
   "metadata": {},
   "source": [
    "<i>Кумулятивное значение среднего чека по сегментам продолжает колебаться, но группа В явно выделяется.  <i>"
   ]
  },
  {
   "cell_type": "markdown",
   "metadata": {},
   "source": [
    "**3) График относительного изменения кумулятивного среднего чека группы B к группе A:**"
   ]
  },
  {
   "cell_type": "code",
   "execution_count": 17,
   "metadata": {},
   "outputs": [
    {
     "data": {
      "text/plain": [
       "Text(0.5, 1.0, 'Относительное изменение кумулятивного среднего чека группы B к группе A')"
      ]
     },
     "execution_count": 17,
     "metadata": {},
     "output_type": "execute_result"
    },
    {
     "data": {
      "image/png": "[encoded data removed]",
      "text/plain": [
       "<Figure size 432x288 with 1 Axes>"
      ]
     },
     "metadata": {
      "needs_background": "light"
     },
     "output_type": "display_data"
    }
   ],
   "source": [
    "plt.plot(data['date'], (data['revenueCummulativeB']/data['ordersCummulativeB'])/(data['revenueCummulativeA']/data['ordersCummulativeA'])-1)\n",
    "\n",
    "# добавляем ось X\n",
    "plt.axhline(y=0, color='black', linestyle='--')\n",
    "plt.xlabel(\"Даты\")\n",
    "plt.ylabel(\"% изменения\")\n",
    "plt.xticks(rotation=90)\n",
    "plt.title(\"Относительное изменение кумулятивного среднего чека группы B к группе A\")"
   ]
  },
  {
   "cell_type": "markdown",
   "metadata": {},
   "source": [
    "<i>Результаты теста резко менялись в несколько дат. Скорее всего в эти даты были совершены аномальные заказы<i>"
   ]
  },
  {
   "cell_type": "markdown",
   "metadata": {},
   "source": [
    "**4) График кумулятивного среднего количества заказов на посетителя по группам:**\n"
   ]
  },
  {
   "cell_type": "code",
   "execution_count": 18,
   "metadata": {},
   "outputs": [
    {
     "data": {
      "text/html": [
       "<div>\n",
       "<style scoped>\n",
       "    .dataframe tbody tr th:only-of-type {\n",
       "        vertical-align: middle;\n",
       "    }\n",
       "\n",
       "    .dataframe tbody tr th {\n",
       "        vertical-align: top;\n",
       "    }\n",
       "\n",
       "    .dataframe thead th {\n",
       "        text-align: right;\n",
       "    }\n",
       "</style>\n",
       "<table border=\"1\" class=\"dataframe\">\n",
       "  <thead>\n",
       "    <tr style=\"text-align: right;\">\n",
       "      <th></th>\n",
       "      <th>date</th>\n",
       "      <th>ordersPerDateA</th>\n",
       "      <th>revenuePerDateA</th>\n",
       "      <th>ordersPerDateB</th>\n",
       "      <th>revenuePerDateB</th>\n",
       "      <th>ordersCummulativeA</th>\n",
       "      <th>revenueCummulativeA</th>\n",
       "      <th>ordersCummulativeB</th>\n",
       "      <th>revenueCummulativeB</th>\n",
       "      <th>visitorsPerDateA</th>\n",
       "      <th>visitorsPerDateB</th>\n",
       "      <th>visitorsCummulativeA</th>\n",
       "      <th>visitorsCummulativeB</th>\n",
       "      <th>conversionCummulativeA</th>\n",
       "      <th>conversionCummulativeB</th>\n",
       "    </tr>\n",
       "  </thead>\n",
       "  <tbody>\n",
       "    <tr>\n",
       "      <th>0</th>\n",
       "      <td>2019-08-01</td>\n",
       "      <td>23</td>\n",
       "      <td>142779</td>\n",
       "      <td>17</td>\n",
       "      <td>59758</td>\n",
       "      <td>23</td>\n",
       "      <td>142779</td>\n",
       "      <td>17</td>\n",
       "      <td>59758</td>\n",
       "      <td>719</td>\n",
       "      <td>713</td>\n",
       "      <td>719</td>\n",
       "      <td>713</td>\n",
       "      <td>0.031989</td>\n",
       "      <td>0.023843</td>\n",
       "    </tr>\n",
       "    <tr>\n",
       "      <th>1</th>\n",
       "      <td>2019-08-02</td>\n",
       "      <td>19</td>\n",
       "      <td>91602</td>\n",
       "      <td>23</td>\n",
       "      <td>162043</td>\n",
       "      <td>42</td>\n",
       "      <td>234381</td>\n",
       "      <td>40</td>\n",
       "      <td>221801</td>\n",
       "      <td>619</td>\n",
       "      <td>581</td>\n",
       "      <td>1338</td>\n",
       "      <td>1294</td>\n",
       "      <td>0.031390</td>\n",
       "      <td>0.030912</td>\n",
       "    </tr>\n",
       "    <tr>\n",
       "      <th>2</th>\n",
       "      <td>2019-08-03</td>\n",
       "      <td>24</td>\n",
       "      <td>112473</td>\n",
       "      <td>14</td>\n",
       "      <td>67049</td>\n",
       "      <td>66</td>\n",
       "      <td>346854</td>\n",
       "      <td>54</td>\n",
       "      <td>288850</td>\n",
       "      <td>507</td>\n",
       "      <td>509</td>\n",
       "      <td>1845</td>\n",
       "      <td>1803</td>\n",
       "      <td>0.035772</td>\n",
       "      <td>0.029950</td>\n",
       "    </tr>\n",
       "    <tr>\n",
       "      <th>3</th>\n",
       "      <td>2019-08-04</td>\n",
       "      <td>11</td>\n",
       "      <td>41176</td>\n",
       "      <td>14</td>\n",
       "      <td>96890</td>\n",
       "      <td>77</td>\n",
       "      <td>388030</td>\n",
       "      <td>68</td>\n",
       "      <td>385740</td>\n",
       "      <td>717</td>\n",
       "      <td>770</td>\n",
       "      <td>2562</td>\n",
       "      <td>2573</td>\n",
       "      <td>0.030055</td>\n",
       "      <td>0.026428</td>\n",
       "    </tr>\n",
       "    <tr>\n",
       "      <th>4</th>\n",
       "      <td>2019-08-05</td>\n",
       "      <td>22</td>\n",
       "      <td>86383</td>\n",
       "      <td>21</td>\n",
       "      <td>89908</td>\n",
       "      <td>99</td>\n",
       "      <td>474413</td>\n",
       "      <td>89</td>\n",
       "      <td>475648</td>\n",
       "      <td>756</td>\n",
       "      <td>707</td>\n",
       "      <td>3318</td>\n",
       "      <td>3280</td>\n",
       "      <td>0.029837</td>\n",
       "      <td>0.027134</td>\n",
       "    </tr>\n",
       "  </tbody>\n",
       "</table>\n",
       "</div>"
      ],
      "text/plain": [
       "        date  ordersPerDateA  revenuePerDateA  ordersPerDateB  \\\n",
       "0 2019-08-01              23           142779              17   \n",
       "1 2019-08-02              19            91602              23   \n",
       "2 2019-08-03              24           112473              14   \n",
       "3 2019-08-04              11            41176              14   \n",
       "4 2019-08-05              22            86383              21   \n",
       "\n",
       "   revenuePerDateB  ordersCummulativeA  revenueCummulativeA  \\\n",
       "0            59758                  23               142779   \n",
       "1           162043                  42               234381   \n",
       "2            67049                  66               346854   \n",
       "3            96890                  77               388030   \n",
       "4            89908                  99               474413   \n",
       "\n",
       "   ordersCummulativeB  revenueCummulativeB  visitorsPerDateA  \\\n",
       "0                  17                59758               719   \n",
       "1                  40               221801               619   \n",
       "2                  54               288850               507   \n",
       "3                  68               385740               717   \n",
       "4                  89               475648               756   \n",
       "\n",
       "   visitorsPerDateB  visitorsCummulativeA  visitorsCummulativeB  \\\n",
       "0               713                   719                   713   \n",
       "1               581                  1338                  1294   \n",
       "2               509                  1845                  1803   \n",
       "3               770                  2562                  2573   \n",
       "4               707                  3318                  3280   \n",
       "\n",
       "   conversionCummulativeA  conversionCummulativeB  \n",
       "0                0.031989                0.023843  \n",
       "1                0.031390                0.030912  \n",
       "2                0.035772                0.029950  \n",
       "3                0.030055                0.026428  \n",
       "4                0.029837                0.027134  "
      ]
     },
     "execution_count": 18,
     "metadata": {},
     "output_type": "execute_result"
    }
   ],
   "source": [
    "# считаем среднее количество заказов на посетителя по группам\n",
    "data['conversionCummulativeA'] = data['ordersCummulativeA']/data['visitorsCummulativeA']\n",
    "data['conversionCummulativeB'] = data['ordersCummulativeB']/data['visitorsCummulativeB']\n",
    "data.head()"
   ]
  },
  {
   "cell_type": "code",
   "execution_count": 19,
   "metadata": {},
   "outputs": [
    {
     "data": {
      "text/plain": [
       "Timestamp('2019-08-31 00:00:00')"
      ]
     },
     "execution_count": 19,
     "metadata": {},
     "output_type": "execute_result"
    }
   ],
   "source": [
    "data['date'].max() #определим начальную дату для масштаба осей"
   ]
  },
  {
   "cell_type": "code",
   "execution_count": 20,
   "metadata": {},
   "outputs": [
    {
     "data": {
      "text/plain": [
       "Timestamp('2019-08-01 00:00:00')"
      ]
     },
     "execution_count": 20,
     "metadata": {},
     "output_type": "execute_result"
    }
   ],
   "source": [
    "data['date'].min() #аналогично минимальную дату"
   ]
  },
  {
   "cell_type": "code",
   "execution_count": 21,
   "metadata": {},
   "outputs": [
    {
     "data": {
      "text/plain": [
       "Text(0.5, 1.0, 'Кумулятивное среднее количество заказов на посетителя по группам')"
      ]
     },
     "execution_count": 21,
     "metadata": {},
     "output_type": "execute_result"
    },
    {
     "data": {
      "image/png": "[encoded data removed]",
      "text/plain": [
       "<Figure size 432x288 with 1 Axes>"
      ]
     },
     "metadata": {
      "needs_background": "light"
     },
     "output_type": "display_data"
    }
   ],
   "source": [
    "plt.plot(data['date'], data['conversionCummulativeA'], label='A')\n",
    "plt.plot(data['date'], data['conversionCummulativeB'], label='B')\n",
    "plt.legend()\n",
    "\n",
    "# задаем масштаб осей\n",
    "plt.axis([dt.datetime(2019, 8, 1), dt.datetime(2019, 8, 31) ,0, 0.05])\n",
    "plt.xlabel(\"Даты\")\n",
    "plt.ylabel(\"Количество заказов на посетителя\")\n",
    "plt.xticks(rotation=90)\n",
    "plt.title(\"Кумулятивное среднее количество заказов на посетителя по группам\")"
   ]
  },
  {
   "cell_type": "markdown",
   "metadata": {},
   "source": [
    "<i>В начале теста сегмент А имел большее кумулятивное среднее количество заказов, но постепенно сегмент В выровнялся и закрепился около одного значения, больше значения сегмента А.<i> <br>\n",
    "Масштаб нужно было изменить, чтобы ушло колебание, если данные были бы представлены в относительных показателях. Также обратим внимание, что <br>\n",
    "    "
   ]
  },
  {
   "cell_type": "markdown",
   "metadata": {},
   "source": [
    "**5) График относительного изменения кумулятивного среднего количества заказов на посетителя группы B к группе A:**"
   ]
  },
  {
   "cell_type": "code",
   "execution_count": 22,
   "metadata": {},
   "outputs": [
    {
     "data": {
      "text/plain": [
       "Text(0.5, 1.0, 'Относительное изменение кумулятивного среднего количества заказов на посетителя группы B к группе A')"
      ]
     },
     "execution_count": 22,
     "metadata": {},
     "output_type": "execute_result"
    },
    {
     "data": {
      "image/png": "[encoded data removed]",
      "text/plain": [
       "<Figure size 432x288 with 1 Axes>"
      ]
     },
     "metadata": {
      "needs_background": "light"
     },
     "output_type": "display_data"
    }
   ],
   "source": [
    "plt.plot(data['date'], data['conversionCummulativeB']/data['conversionCummulativeA']-1, label=\"Относительный прирост кумулятивного среднего количества заказов на посетителя группы B относительно группы A\")\n",
    "plt.legend()\n",
    "\n",
    "plt.axhline(y=0, color='black', linestyle='--')\n",
    "plt.axhline(y= 0.15, color='grey', linestyle='--')\n",
    "plt.xlabel(\"Даты\")\n",
    "plt.ylabel(\"% изменения\")\n",
    "plt.title(\"Относительное изменение кумулятивного среднего количества заказов на посетителя группы B к группе A\")"
   ]
  },
  {
   "cell_type": "markdown",
   "metadata": {},
   "source": [
    "<i>Почти с самого начала теста группа В лидирует по метрике, зафиксирировалась около прироста в 20%, затем упало и зафиксировалось около 15%.<i>"
   ]
  },
  {
   "cell_type": "markdown",
   "metadata": {},
   "source": [
    "**Построим точечные графики и найдем перцентили:**"
   ]
  },
  {
   "cell_type": "markdown",
   "metadata": {},
   "source": [
    "**1) Точечный график количества заказов по пользователям:**"
   ]
  },
  {
   "cell_type": "code",
   "execution_count": 23,
   "metadata": {},
   "outputs": [
    {
     "data": {
      "text/plain": [
       "Text(0.5, 1.0, 'Количество заказов по пользователям:')"
      ]
     },
     "execution_count": 23,
     "metadata": {},
     "output_type": "execute_result"
    },
    {
     "data": {
      "image/png": "[encoded data removed]",
      "text/plain": [
       "<Figure size 432x288 with 1 Axes>"
      ]
     },
     "metadata": {
      "needs_background": "light"
     },
     "output_type": "display_data"
    }
   ],
   "source": [
    "ordersByUsers = (\n",
    "    orders.groupby('visitorId', as_index=False)\n",
    "    .agg({'transactionId': 'nunique'}))\n",
    "    \n",
    "ordersByUsers.columns = ['visitorId', 'orders']\n",
    "\n",
    "\n",
    "x_values = pd.Series(range(0, len(ordersByUsers)))\n",
    "plt.scatter(x_values, ordersByUsers['orders']) \n",
    "plt.xlabel(\"Количество пользователей\")\n",
    "plt.ylabel(\"Количество заказов\")\n",
    "plt.title(\"Количество заказов по пользователям:\")"
   ]
  },
  {
   "cell_type": "markdown",
   "metadata": {},
   "source": [
    "<i>Пользователей заказавших более двух раз мало, они в полне могут быть аномальными. Чтобы оценить 2 -3 заказа этого много или мало далее посчитаем выборочные перцентили.<i>"
   ]
  },
  {
   "cell_type": "markdown",
   "metadata": {},
   "source": [
    "**95-й и 99-й перцентили количества заказов на пользователя. Выберем границу для определения аномальных пользователей:**\n"
   ]
  },
  {
   "cell_type": "code",
   "execution_count": 24,
   "metadata": {},
   "outputs": [
    {
     "name": "stdout",
     "output_type": "stream",
     "text": [
      "[1. 2.]\n"
     ]
    }
   ],
   "source": [
    "print(np.percentile(ordersByUsers['orders'], [95, 99]))"
   ]
  },
  {
   "cell_type": "markdown",
   "metadata": {},
   "source": [
    "<i>Не более 5% пользователей совершали больше 1 заказов, и не более 1% - больше 2 заказов.<i>"
   ]
  },
  {
   "cell_type": "markdown",
   "metadata": {},
   "source": [
    "**2) Построим точечный график стоимостей заказов:**"
   ]
  },
  {
   "cell_type": "code",
   "execution_count": 25,
   "metadata": {},
   "outputs": [
    {
     "data": {
      "text/plain": [
       "Text(0.5, 1.0, 'Количество стоимости заказов по пользователям:')"
      ]
     },
     "execution_count": 25,
     "metadata": {},
     "output_type": "execute_result"
    },
    {
     "data": {
      "image/png": "[encoded data removed]",
      "text/plain": [
       "<Figure size 432x288 with 1 Axes>"
      ]
     },
     "metadata": {
      "needs_background": "light"
     },
     "output_type": "display_data"
    }
   ],
   "source": [
    "x_values = pd.Series(range(0, len(orders['revenue'])))\n",
    "plt.scatter(x_values, orders['revenue'])\n",
    "plt.xlabel(\"Количество пользователей\")\n",
    "plt.ylabel(\"Стоимость заказа\")\n",
    "plt.title(\"Количество стоимости заказов по пользователям:\")"
   ]
  },
  {
   "cell_type": "markdown",
   "metadata": {},
   "source": [
    "<i>Заказов стоимостью 1 200 000 рублей не очень много, также есть выбросы около 200 000 рублей.<i>"
   ]
  },
  {
   "cell_type": "markdown",
   "metadata": {},
   "source": [
    "**95-й и 99-й перцентили стоимости заказов. Выберите границу для определения аномальных заказов:**"
   ]
  },
  {
   "cell_type": "code",
   "execution_count": 26,
   "metadata": {},
   "outputs": [
    {
     "name": "stdout",
     "output_type": "stream",
     "text": [
      "[26785. 53904.]\n"
     ]
    }
   ],
   "source": [
    "print(np.percentile(orders['revenue'], [95, 99]))"
   ]
  },
  {
   "cell_type": "markdown",
   "metadata": {},
   "source": [
    "<i>Не более, чем  5% заказов дороже 26 785 рублей, и не больше, чем у 1% - дороже 53 904 рублей.<i>"
   ]
  },
  {
   "cell_type": "markdown",
   "metadata": {},
   "source": [
    "**Сформулируем нулевую гипотезу:** <br>\n",
    "\"Н0 - Различий в  среднем количестве заказов на посетителя между группами нет.\"<br>\n",
    "**Сформулируем альтернативную гипотезу:** <br>\n",
    "\"Н1 - Есть различия в  среднем количестве заказов на посетителя между группами.\""
   ]
  },
  {
   "cell_type": "markdown",
   "metadata": {},
   "source": [
    "**Далее найдем статистические различия по сырым и очищенным данным:**"
   ]
  },
  {
   "cell_type": "markdown",
   "metadata": {},
   "source": [
    "**1) Статистическая значимость различий в среднем количестве заказов на посетителя между группами по «сырым» данным:**"
   ]
  },
  {
   "cell_type": "code",
   "execution_count": 27,
   "metadata": {},
   "outputs": [
    {
     "name": "stdout",
     "output_type": "stream",
     "text": [
      "p-value: 0.011\n",
      "Относительное различие в среднем между группами:  0.160\n"
     ]
    }
   ],
   "source": [
    "ordersByUsersA = (\n",
    "    orders[orders['group'] == 'A']\n",
    "    .groupby('visitorId', as_index=False)\n",
    "    .agg({'transactionId': pd.Series.nunique})\n",
    ")\n",
    "ordersByUsersA.columns = ['userId', 'orders']\n",
    "\n",
    "ordersByUsersB = (\n",
    "    orders[orders['group'] == 'B']\n",
    "    .groupby('visitorId', as_index=False)\n",
    "    .agg({'transactionId': pd.Series.nunique})\n",
    ")\n",
    "ordersByUsersB.columns = ['userId', 'orders']\n",
    "\n",
    "sampleA = pd.concat([ordersByUsersA['orders'],pd.Series(0, index=np.arange(data['visitorsPerDateA'].sum() - len(ordersByUsersA['orders'])), name='orders')],axis=0)\n",
    "\n",
    "sampleB = pd.concat([ordersByUsersB['orders'],pd.Series(0, index=np.arange(data['visitorsPerDateB'].sum() - len(ordersByUsersB['orders'])), name='orders')],axis=0)\n",
    "\n",
    "\n",
    "\n",
    "print('p-value:', \"{0:.3f}\".format(stats.mannwhitneyu(sampleA, sampleB)[1]))\n",
    "\n",
    "\n",
    "print('Относительное различие в среднем между группами: ', \"{0:.3f}\".format((data['ordersPerDateB'].sum()/data['visitorsPerDateB'].sum())/(data['ordersPerDateA'].sum()/data['visitorsPerDateA'].sum())-1))"
   ]
  },
  {
   "cell_type": "markdown",
   "metadata": {},
   "source": [
    "<i>P-value значительно меньше 5%, поэтому нулевую гипотезу отвергаем. Анализ \"сырых данных\", сообщает, что в среднем количестве заказов между группами есть статистически значимые различия. Относительный прирост среднего группы В  конкверсии группы А равен 13,8%.<i>"
   ]
  },
  {
   "cell_type": "markdown",
   "metadata": {},
   "source": [
    "<i><i>"
   ]
  },
  {
   "cell_type": "markdown",
   "metadata": {},
   "source": [
    "**2) Статистическая значимость различий в среднем чеке заказа между группами по «сырым» данным:**"
   ]
  },
  {
   "cell_type": "markdown",
   "metadata": {},
   "source": [
    "**Сформулируем нулевую гипотезу:** <br>\n",
    "\"Н0 - Различий в  среднем чеке заказа между группами нет.\"<br>\n",
    "**Сформулируем альтернативную гипотезу:** <br>\n",
    "\"Н1 - Есть различия в  среднем чеке между группами.\""
   ]
  },
  {
   "cell_type": "code",
   "execution_count": 28,
   "metadata": {},
   "outputs": [
    {
     "name": "stdout",
     "output_type": "stream",
     "text": [
      "p-value: 0.829\n",
      "Относительное различие в среднем между группами:  0.287\n"
     ]
    }
   ],
   "source": [
    "sampleA = pd.concat(\n",
    "    [\n",
    "        ordersByUsersA['orders'],\n",
    "        pd.Series(\n",
    "            0,\n",
    "            index=np.arange(\n",
    "                data['visitorsPerDateA'].sum() - len(ordersByUsersA['orders'])\n",
    "            ),\n",
    "            name='orders',\n",
    "        ),\n",
    "    ],\n",
    "    axis=0,\n",
    ")\n",
    "\n",
    "sampleB = pd.concat(\n",
    "    [\n",
    "        ordersByUsersB['orders'],\n",
    "        pd.Series(\n",
    "            0,\n",
    "            index=np.arange(\n",
    "                data['visitorsPerDateB'].sum() - len(ordersByUsersB['orders'])\n",
    "            ),\n",
    "            name='orders',\n",
    "        ),\n",
    "    ],\n",
    "    axis=0,\n",
    ")\n",
    "\n",
    "print('p-value:', '{0:.3f}'.format(stats.mannwhitneyu(orders[orders['group']=='A']['revenue'], orders[orders['group']=='B']['revenue'])[1]))\n",
    "print('Относительное различие в среднем между группами: ','{0:.3f}'.format(orders[orders['group']=='B']['revenue'].mean()/orders[orders['group']=='A']['revenue'].mean()-1))\n"
   ]
  },
  {
   "cell_type": "markdown",
   "metadata": {},
   "source": [
    "<i>P-value больше 0,05 -  статистически значимых отличий в среднем чеке между группами нет, нулевую гипотезу отвергаем. Наблюдаемое различие в 26% не является статисически значимым.<i>"
   ]
  },
  {
   "cell_type": "markdown",
   "metadata": {},
   "source": [
    "<i><i>"
   ]
  },
  {
   "cell_type": "markdown",
   "metadata": {},
   "source": [
    "**3) Статистическая значимость различий в среднем количестве заказов на посетителя между группами по «очищенным» данным:**"
   ]
  },
  {
   "cell_type": "code",
   "execution_count": 29,
   "metadata": {},
   "outputs": [
    {
     "data": {
      "text/html": [
       "<div>\n",
       "<style scoped>\n",
       "    .dataframe tbody tr th:only-of-type {\n",
       "        vertical-align: middle;\n",
       "    }\n",
       "\n",
       "    .dataframe tbody tr th {\n",
       "        vertical-align: top;\n",
       "    }\n",
       "\n",
       "    .dataframe thead th {\n",
       "        text-align: right;\n",
       "    }\n",
       "</style>\n",
       "<table border=\"1\" class=\"dataframe\">\n",
       "  <thead>\n",
       "    <tr style=\"text-align: right;\">\n",
       "      <th></th>\n",
       "      <th>userId</th>\n",
       "      <th>orders</th>\n",
       "    </tr>\n",
       "  </thead>\n",
       "  <tbody>\n",
       "    <tr>\n",
       "      <th>0</th>\n",
       "      <td>11685486</td>\n",
       "      <td>1</td>\n",
       "    </tr>\n",
       "    <tr>\n",
       "      <th>1</th>\n",
       "      <td>54447517</td>\n",
       "      <td>1</td>\n",
       "    </tr>\n",
       "    <tr>\n",
       "      <th>2</th>\n",
       "      <td>66685450</td>\n",
       "      <td>1</td>\n",
       "    </tr>\n",
       "    <tr>\n",
       "      <th>3</th>\n",
       "      <td>78758296</td>\n",
       "      <td>1</td>\n",
       "    </tr>\n",
       "    <tr>\n",
       "      <th>4</th>\n",
       "      <td>85103373</td>\n",
       "      <td>1</td>\n",
       "    </tr>\n",
       "    <tr>\n",
       "      <th>...</th>\n",
       "      <td>...</td>\n",
       "      <td>...</td>\n",
       "    </tr>\n",
       "    <tr>\n",
       "      <th>440</th>\n",
       "      <td>4227830084</td>\n",
       "      <td>1</td>\n",
       "    </tr>\n",
       "    <tr>\n",
       "      <th>441</th>\n",
       "      <td>4237561104</td>\n",
       "      <td>1</td>\n",
       "    </tr>\n",
       "    <tr>\n",
       "      <th>442</th>\n",
       "      <td>4243832526</td>\n",
       "      <td>1</td>\n",
       "    </tr>\n",
       "    <tr>\n",
       "      <th>443</th>\n",
       "      <td>4259830713</td>\n",
       "      <td>1</td>\n",
       "    </tr>\n",
       "    <tr>\n",
       "      <th>444</th>\n",
       "      <td>4278982564</td>\n",
       "      <td>1</td>\n",
       "    </tr>\n",
       "  </tbody>\n",
       "</table>\n",
       "<p>445 rows × 2 columns</p>\n",
       "</div>"
      ],
      "text/plain": [
       "         userId  orders\n",
       "0      11685486       1\n",
       "1      54447517       1\n",
       "2      66685450       1\n",
       "3      78758296       1\n",
       "4      85103373       1\n",
       "..          ...     ...\n",
       "440  4227830084       1\n",
       "441  4237561104       1\n",
       "442  4243832526       1\n",
       "443  4259830713       1\n",
       "444  4278982564       1\n",
       "\n",
       "[445 rows x 2 columns]"
      ]
     },
     "execution_count": 29,
     "metadata": {},
     "output_type": "execute_result"
    }
   ],
   "source": [
    "ordersByUsersA"
   ]
  },
  {
   "cell_type": "code",
   "execution_count": 30,
   "metadata": {},
   "outputs": [
    {
     "name": "stdout",
     "output_type": "stream",
     "text": [
      "568     113298937\n",
      "1099    148427295\n",
      "928     204675465\n",
      "33      249864742\n",
      "684     358944393\n",
      "dtype: int64\n"
     ]
    }
   ],
   "source": [
    "#Ограничимся количеством покупок у одного пользователя не более двух и сумма заказа не более 30 000, \n",
    "#Так мы уберёv 1% пользователей с наибольшим числом заказов и от 1% до 5% заказов с наибольшей стоимостью.\n",
    "usersWithManyOrders = pd.concat(\n",
    "    [\n",
    "        ordersByUsersA[ordersByUsersA['orders'] > 2]['userId'],\n",
    "        ordersByUsersB[ordersByUsersB['orders'] > 2]['userId'],\n",
    "    ],\n",
    "    axis=0,)\n",
    "revenue_lim = np.percentile(orders['revenue'], 95)\n",
    "usersWithExpensiveOrders = orders[orders['revenue'] > revenue_lim]['visitorId']\n",
    "abnormalUsers = (\n",
    "    pd.concat([usersWithManyOrders, usersWithExpensiveOrders], axis=0)\n",
    "    .drop_duplicates()\n",
    "    .sort_values()\n",
    ")\n",
    "\n",
    "print(abnormalUsers.head(5))\n"
   ]
  },
  {
   "cell_type": "markdown",
   "metadata": {},
   "source": [
    "<div class=\"alert alert-warning\">\n",
    "    \n",
    "  <b>Комментарий ревьюера</b>\n",
    "    \n",
    "  ⚠️ Тут можно или непосредственно вычисления по 95 / 99 перцентилю, например:\n",
    "```python \n",
    "revenue_lim = np.percentile(orders['revenue'], 95)`\n",
    "```\n",
    "или задавать в качестве отдельной переменой:\n",
    "\n",
    "```python \n",
    "revenue_lim = 100000\n",
    "usersWithExpensiveOrders = orders[orders['revenue'] > revenue_lim]['visitorId']`\n",
    "```\n",
    "\n",
    "</div>"
   ]
  },
  {
   "cell_type": "code",
   "execution_count": 31,
   "metadata": {},
   "outputs": [
    {
     "name": "stdout",
     "output_type": "stream",
     "text": [
      "p-value: 0.012\n",
      "Относительное различие в среднем между группами:  0.182\n"
     ]
    }
   ],
   "source": [
    "sampleAFiltered = pd.concat(\n",
    "    [\n",
    "        ordersByUsersA[\n",
    "            np.logical_not(ordersByUsersA['userId'].isin(abnormalUsers))\n",
    "        ]['orders'],\n",
    "        pd.Series(\n",
    "            0,\n",
    "            index=np.arange(\n",
    "                data['visitorsPerDateA'].sum() - len(ordersByUsersA['orders'])\n",
    "            ),\n",
    "            name='orders',\n",
    "        ),\n",
    "    ],\n",
    "    axis=0,\n",
    ")\n",
    "\n",
    "sampleBFiltered = pd.concat(\n",
    "    [\n",
    "        ordersByUsersB[\n",
    "            np.logical_not(ordersByUsersB['userId'].isin(abnormalUsers))\n",
    "        ]['orders'],\n",
    "        pd.Series(\n",
    "            0,\n",
    "            index=np.arange(\n",
    "                data['visitorsPerDateB'].sum() - len(ordersByUsersB['orders'])\n",
    "            ),\n",
    "            name='orders',\n",
    "        ),\n",
    "    ],\n",
    "    axis=0,\n",
    ")\n",
    "\n",
    "print('p-value:', '{0:.3f}'.format(stats.mannwhitneyu(sampleAFiltered, sampleBFiltered)[1]))\n",
    "print('Относительное различие в среднем между группами: ', '{0:.3f}'.format(sampleBFiltered.mean()/sampleAFiltered.mean()-1))"
   ]
  },
  {
   "cell_type": "markdown",
   "metadata": {},
   "source": [
    "<i>Как и в случае с \"сырыми данными\" - статистическая значимость достигнута, нулевую гипотезу отвергаем.<i>"
   ]
  },
  {
   "cell_type": "markdown",
   "metadata": {},
   "source": [
    "<div class=\"alert alert-danger\">\n",
    "    \n",
    "  <b>Комментарий ревьюера</b>\n",
    "    \n",
    "  ❌ Принимаем или отвергаем нулевую гипотезу?\n",
    "\n",
    "</div>    \n",
    "<div class=\"alert alert-success\">\n",
    "  \n",
    "  <b>Комментарий ревьюера v.2</b>\n",
    "    \n",
    "  ✔️ И тут отвергаем нулевую гипотезу.\n",
    "</div>"
   ]
  },
  {
   "cell_type": "markdown",
   "metadata": {},
   "source": [
    "<i><i>"
   ]
  },
  {
   "cell_type": "markdown",
   "metadata": {},
   "source": [
    "<i><i>"
   ]
  },
  {
   "cell_type": "markdown",
   "metadata": {},
   "source": [
    "**4) Статистическая значимость различий в среднем чеке заказа между группами по «очищенным» данным:**"
   ]
  },
  {
   "cell_type": "code",
   "execution_count": 32,
   "metadata": {},
   "outputs": [
    {
     "name": "stdout",
     "output_type": "stream",
     "text": [
      "p-value: 0.646\n",
      "Относительное различие в среднем между группами:  -0.048\n"
     ]
    }
   ],
   "source": [
    "print('p-value:', \n",
    "    '{0:.3f}'.format(\n",
    "        stats.mannwhitneyu(\n",
    "            orders[\n",
    "                np.logical_and(\n",
    "                    orders['group'] == 'A',\n",
    "                    np.logical_not(orders['visitorId'].isin(abnormalUsers)),\n",
    "                )\n",
    "            ]['revenue'],\n",
    "            orders[\n",
    "                np.logical_and(\n",
    "                    orders['group'] == 'B',\n",
    "                    np.logical_not(orders['visitorId'].isin(abnormalUsers)),\n",
    "                )\n",
    "            ]['revenue'],\n",
    "        )[1]\n",
    "    )\n",
    ")\n",
    "\n",
    "print('Относительное различие в среднем между группами: ', \n",
    "    \"{0:.3f}\".format(\n",
    "        orders[\n",
    "            np.logical_and(\n",
    "                orders['group'] == 'B',\n",
    "                np.logical_not(orders['visitorId'].isin(abnormalUsers)),\n",
    "            )\n",
    "        ]['revenue'].mean()\n",
    "        / orders[\n",
    "            np.logical_and(\n",
    "                orders['group'] == 'A',\n",
    "                np.logical_not(orders['visitorId'].isin(abnormalUsers)),\n",
    "            )\n",
    "        ]['revenue'].mean()\n",
    "        - 1\n",
    "    )\n",
    ")"
   ]
  },
  {
   "cell_type": "markdown",
   "metadata": {},
   "source": [
    "<i><i>"
   ]
  },
  {
   "cell_type": "markdown",
   "metadata": {},
   "source": [
    "<i>После подчищения данных статистическая значимость не появилась, почти осталась на том же уровне. Значит нулевую гипотезу нет причин отвергать. А вот после удаления выбросов в данных стало меньше шума  и средний чем сегмента В оказался меньше, чем у группы А, что очень разнится с \"сырыми данными\".<i>"
   ]
  },
  {
   "cell_type": "markdown",
   "metadata": {},
   "source": [
    "<div class=\"alert alert-danger\">\n",
    "    \n",
    "  <b>Комментарий ревьюера</b>\n",
    "    \n",
    "  ❌ Согласен, только обрати, пожалуйста, внимание на выводы: в начале мы можем говорить о наблюдаемых различиях, а потом сказать - являются ли они стат. значимыми или нет.\n",
    "\n",
    "</div>\n",
    "<div class=\"alert alert-warning\">\n",
    "    \n",
    "  <b>Комментарий ревьюера v.2</b>\n",
    "    \n",
    "  ⚠️ Тут стоит так-же написать, что разница между группами 4,8% не является стат.значимой\n",
    "</div>"
   ]
  },
  {
   "cell_type": "markdown",
   "metadata": {},
   "source": [
    "## Выводы"
   ]
  },
  {
   "cell_type": "markdown",
   "metadata": {},
   "source": [
    "Результаты решённых в этом проекте задач в сборе: <br>\n",
    " - Статистическая значимость по заказам достигнута и в сырых  и в очищенных данных, конверсия отличается не более чем на 17%  сегмент В значительно лучше А.<br>\n",
    " - По сырым и очищенным  данным статистическая значимость по среднему чеку не появилась, почти осталась на том же уровне, после удаления выбросов в данных стало меньше шума и средний чем сегмента В оказался меньше, чем у группы А, что очень разнится с \"сырыми данными\".<br>\n",
    " - График различия конверсии между группами сообщает, что результаты группы B бывали лучше группы A: но имеют тенденцию к падению, нет фиксации около одного среднего значения.\n",
    " - График различия среднего чека колеблется: он-то и позволил нам найти аномалии. Сделать из этого графика определённые выводы нельзя.<br><br>\n",
    "**Исходя из фактов выше, хоть и не все показатели показали себя с лучшей стороны, следует остановить тест, признать его успешным и перейти к проверке следующей гипотезы.** "
   ]
  },
  {
   "cell_type": "markdown",
   "metadata": {},
   "source": [
    "<div class=\"alert alert-success\">\n",
    "  \n",
    "  <b>Комментарий ревьюера</b>\n",
    "    \n",
    "  ✔️  Тест окрасился только на половину - по количеству заказов. Но это тоже хорошо, т.к. стат.значимой разницы по среднему чеку нет (чек не увеличился, но и не уменьшился) то при возросшем количестве заказов с сохранившимся средним чеком выручка будет так-же расти. И значит мы заканчиваем анализ A/B-теста - он оказался успешным! \n",
    "\n",
    "</div>"
   ]
  },
  {
   "cell_type": "markdown",
   "metadata": {},
   "source": [
    "<div style=\"border:solid black 2px; padding: 20px\">\n",
    "  \n",
    "    \n",
    "  <b>Чек-лист доработок</b>\n",
    "    \n",
    " \n",
    "  📃 Проверить данные на  дубликаты.    \n",
    "\n",
    "  📃 Пересчитать RICE и ICE.\n",
    "    \n",
    "  📃 Проверить корректность разбиения пользователей на группы.\n",
    "    \n",
    "  📃 Дооформить графики.\n",
    "    \n",
    "  📃 Пересмотреть выбросы по количеству и стоимости заказов.\n",
    "    \n",
    "  📃 Сформулировать нулевую и альтернативную гипотезы.\n",
    "    \n",
    "  📃 Проверить выводы стат.тестов.\n",
    "    \n",
    " \n",
    "Жду твой проект на повторное ревью. Не стесняйся оставлять комментарии и задавать вопросы. Удачи! Все получится.\n",
    "</div>"
   ]
  }
 ],
 "metadata": {
  "ExecuteTimeLog": [
   {
    "duration": 63,
    "start_time": "2024-10-22T12:12:01.240Z"
   },
   {
    "duration": 452,
    "start_time": "2024-10-22T12:12:09.394Z"
   },
   {
    "duration": 94,
    "start_time": "2024-10-22T12:12:09.847Z"
   },
   {
    "duration": 32,
    "start_time": "2024-10-22T12:14:22.128Z"
   },
   {
    "duration": 385,
    "start_time": "2024-10-22T12:15:57.453Z"
   },
   {
    "duration": 34,
    "start_time": "2024-10-22T12:15:57.841Z"
   },
   {
    "duration": 9,
    "start_time": "2024-10-22T12:15:57.877Z"
   },
   {
    "duration": 9,
    "start_time": "2024-10-22T12:16:23.207Z"
   },
   {
    "duration": 492,
    "start_time": "2024-10-22T12:37:00.176Z"
   },
   {
    "duration": 149,
    "start_time": "2024-10-22T12:37:00.814Z"
   },
   {
    "duration": 15,
    "start_time": "2024-10-22T12:37:16.056Z"
   },
   {
    "duration": 9,
    "start_time": "2024-10-22T12:37:25.757Z"
   },
   {
    "duration": 47,
    "start_time": "2024-10-22T12:37:36.935Z"
   },
   {
    "duration": 7,
    "start_time": "2024-10-22T12:37:49.924Z"
   },
   {
    "duration": 89,
    "start_time": "2024-10-22T12:38:57.438Z"
   },
   {
    "duration": 392,
    "start_time": "2024-10-22T12:39:03.433Z"
   },
   {
    "duration": 33,
    "start_time": "2024-10-22T12:39:03.827Z"
   },
   {
    "duration": 9,
    "start_time": "2024-10-22T12:39:03.862Z"
   },
   {
    "duration": 13,
    "start_time": "2024-10-22T12:39:03.872Z"
   },
   {
    "duration": 481,
    "start_time": "2024-10-22T12:39:03.887Z"
   },
   {
    "duration": 79,
    "start_time": "2024-10-22T12:39:04.370Z"
   },
   {
    "duration": 15,
    "start_time": "2024-10-22T12:39:04.451Z"
   },
   {
    "duration": 27,
    "start_time": "2024-10-22T12:39:04.468Z"
   },
   {
    "duration": 12,
    "start_time": "2024-10-22T12:39:32.194Z"
   },
   {
    "duration": 10,
    "start_time": "2024-10-22T12:39:58.242Z"
   },
   {
    "duration": 315,
    "start_time": "2024-10-22T12:45:17.586Z"
   },
   {
    "duration": 90,
    "start_time": "2024-10-22T12:50:13.459Z"
   },
   {
    "duration": 413,
    "start_time": "2024-10-22T12:51:01.416Z"
   },
   {
    "duration": 34,
    "start_time": "2024-10-22T12:51:01.831Z"
   },
   {
    "duration": 10,
    "start_time": "2024-10-22T12:51:01.866Z"
   },
   {
    "duration": 51,
    "start_time": "2024-10-22T12:51:01.878Z"
   },
   {
    "duration": 918,
    "start_time": "2024-10-22T12:51:01.931Z"
   },
   {
    "duration": 156,
    "start_time": "2024-10-22T12:51:02.851Z"
   },
   {
    "duration": 12,
    "start_time": "2024-10-22T12:51:03.009Z"
   },
   {
    "duration": 23,
    "start_time": "2024-10-22T12:51:03.022Z"
   },
   {
    "duration": 30,
    "start_time": "2024-10-22T12:51:03.046Z"
   },
   {
    "duration": 37,
    "start_time": "2024-10-22T12:51:03.078Z"
   },
   {
    "duration": 306,
    "start_time": "2024-10-22T12:51:03.117Z"
   },
   {
    "duration": 254,
    "start_time": "2024-10-22T12:51:03.425Z"
   },
   {
    "duration": 424,
    "start_time": "2024-10-22T12:54:07.290Z"
   },
   {
    "duration": 33,
    "start_time": "2024-10-22T12:54:07.716Z"
   },
   {
    "duration": 9,
    "start_time": "2024-10-22T12:54:07.750Z"
   },
   {
    "duration": 9,
    "start_time": "2024-10-22T12:54:07.761Z"
   },
   {
    "duration": 693,
    "start_time": "2024-10-22T12:54:07.771Z"
   },
   {
    "duration": 129,
    "start_time": "2024-10-22T12:54:08.466Z"
   },
   {
    "duration": 11,
    "start_time": "2024-10-22T12:54:08.596Z"
   },
   {
    "duration": 27,
    "start_time": "2024-10-22T12:54:08.608Z"
   },
   {
    "duration": 22,
    "start_time": "2024-10-22T12:54:08.637Z"
   },
   {
    "duration": 12,
    "start_time": "2024-10-22T12:54:08.661Z"
   },
   {
    "duration": 289,
    "start_time": "2024-10-22T12:54:08.674Z"
   },
   {
    "duration": 267,
    "start_time": "2024-10-22T12:54:08.964Z"
   },
   {
    "duration": 177,
    "start_time": "2024-10-22T12:55:42.780Z"
   },
   {
    "duration": 426,
    "start_time": "2024-10-22T12:59:24.766Z"
   },
   {
    "duration": 32,
    "start_time": "2024-10-22T12:59:25.194Z"
   },
   {
    "duration": 8,
    "start_time": "2024-10-22T12:59:25.228Z"
   },
   {
    "duration": 56,
    "start_time": "2024-10-22T12:59:25.238Z"
   },
   {
    "duration": 673,
    "start_time": "2024-10-22T12:59:25.295Z"
   },
   {
    "duration": 64,
    "start_time": "2024-10-22T12:59:25.970Z"
   },
   {
    "duration": 101,
    "start_time": "2024-10-22T12:59:26.035Z"
   },
   {
    "duration": 0,
    "start_time": "2024-10-22T12:59:26.138Z"
   },
   {
    "duration": 0,
    "start_time": "2024-10-22T12:59:26.139Z"
   },
   {
    "duration": 0,
    "start_time": "2024-10-22T12:59:26.141Z"
   },
   {
    "duration": 0,
    "start_time": "2024-10-22T12:59:26.142Z"
   },
   {
    "duration": 0,
    "start_time": "2024-10-22T12:59:26.144Z"
   },
   {
    "duration": 0,
    "start_time": "2024-10-22T12:59:26.145Z"
   },
   {
    "duration": 0,
    "start_time": "2024-10-22T12:59:26.146Z"
   },
   {
    "duration": 400,
    "start_time": "2024-10-22T13:00:13.321Z"
   },
   {
    "duration": 34,
    "start_time": "2024-10-22T13:00:13.723Z"
   },
   {
    "duration": 10,
    "start_time": "2024-10-22T13:00:13.759Z"
   },
   {
    "duration": 27,
    "start_time": "2024-10-22T13:00:13.770Z"
   },
   {
    "duration": 665,
    "start_time": "2024-10-22T13:00:13.800Z"
   },
   {
    "duration": 63,
    "start_time": "2024-10-22T13:00:14.466Z"
   },
   {
    "duration": 153,
    "start_time": "2024-10-22T13:00:14.530Z"
   },
   {
    "duration": 0,
    "start_time": "2024-10-22T13:00:14.685Z"
   },
   {
    "duration": 0,
    "start_time": "2024-10-22T13:00:14.687Z"
   },
   {
    "duration": 0,
    "start_time": "2024-10-22T13:00:14.689Z"
   },
   {
    "duration": 0,
    "start_time": "2024-10-22T13:00:14.690Z"
   },
   {
    "duration": 0,
    "start_time": "2024-10-22T13:00:14.698Z"
   },
   {
    "duration": 0,
    "start_time": "2024-10-22T13:00:14.699Z"
   },
   {
    "duration": 0,
    "start_time": "2024-10-22T13:00:14.701Z"
   },
   {
    "duration": 80,
    "start_time": "2024-10-22T13:00:53.671Z"
   },
   {
    "duration": 29,
    "start_time": "2024-10-22T13:02:13.765Z"
   },
   {
    "duration": 11,
    "start_time": "2024-10-22T13:02:19.002Z"
   },
   {
    "duration": 115,
    "start_time": "2024-10-22T13:02:39.511Z"
   },
   {
    "duration": 9,
    "start_time": "2024-10-22T13:02:44.042Z"
   },
   {
    "duration": 31,
    "start_time": "2024-10-22T13:03:12.355Z"
   },
   {
    "duration": 54,
    "start_time": "2024-10-22T13:03:36.118Z"
   },
   {
    "duration": 67,
    "start_time": "2024-10-22T13:03:51.159Z"
   },
   {
    "duration": 54,
    "start_time": "2024-10-22T13:03:54.016Z"
   },
   {
    "duration": 200,
    "start_time": "2024-10-22T13:03:57.771Z"
   },
   {
    "duration": 31,
    "start_time": "2024-10-22T13:04:28.898Z"
   },
   {
    "duration": 56,
    "start_time": "2024-10-22T13:05:09.572Z"
   },
   {
    "duration": 8,
    "start_time": "2024-10-22T13:05:18.128Z"
   },
   {
    "duration": 377,
    "start_time": "2024-10-22T13:05:25.247Z"
   },
   {
    "duration": 33,
    "start_time": "2024-10-22T13:05:25.626Z"
   },
   {
    "duration": 30,
    "start_time": "2024-10-22T13:05:25.660Z"
   },
   {
    "duration": 24,
    "start_time": "2024-10-22T13:05:25.691Z"
   },
   {
    "duration": 675,
    "start_time": "2024-10-22T13:05:25.717Z"
   },
   {
    "duration": 44,
    "start_time": "2024-10-22T13:05:26.394Z"
   },
   {
    "duration": 69,
    "start_time": "2024-10-22T13:05:26.440Z"
   },
   {
    "duration": 11,
    "start_time": "2024-10-22T13:05:26.511Z"
   },
   {
    "duration": 17,
    "start_time": "2024-10-22T13:05:26.524Z"
   },
   {
    "duration": 18,
    "start_time": "2024-10-22T13:05:26.543Z"
   },
   {
    "duration": 131,
    "start_time": "2024-10-22T13:05:26.563Z"
   },
   {
    "duration": 0,
    "start_time": "2024-10-22T13:05:26.698Z"
   },
   {
    "duration": 0,
    "start_time": "2024-10-22T13:05:26.699Z"
   },
   {
    "duration": 0,
    "start_time": "2024-10-22T13:05:26.701Z"
   },
   {
    "duration": 440,
    "start_time": "2024-10-22T13:06:19.589Z"
   },
   {
    "duration": 33,
    "start_time": "2024-10-22T13:06:20.031Z"
   },
   {
    "duration": 10,
    "start_time": "2024-10-22T13:06:20.066Z"
   },
   {
    "duration": 32,
    "start_time": "2024-10-22T13:06:20.077Z"
   },
   {
    "duration": 675,
    "start_time": "2024-10-22T13:06:20.111Z"
   },
   {
    "duration": 56,
    "start_time": "2024-10-22T13:06:20.788Z"
   },
   {
    "duration": 70,
    "start_time": "2024-10-22T13:06:20.847Z"
   },
   {
    "duration": 13,
    "start_time": "2024-10-22T13:06:20.918Z"
   },
   {
    "duration": 96,
    "start_time": "2024-10-22T13:06:20.933Z"
   },
   {
    "duration": 41,
    "start_time": "2024-10-22T13:06:21.031Z"
   },
   {
    "duration": 194,
    "start_time": "2024-10-22T13:06:21.073Z"
   },
   {
    "duration": 0,
    "start_time": "2024-10-22T13:06:21.268Z"
   },
   {
    "duration": 0,
    "start_time": "2024-10-22T13:06:21.269Z"
   },
   {
    "duration": 0,
    "start_time": "2024-10-22T13:06:21.270Z"
   },
   {
    "duration": 70,
    "start_time": "2024-10-22T13:07:59.112Z"
   },
   {
    "duration": 7,
    "start_time": "2024-10-22T13:08:03.443Z"
   },
   {
    "duration": 10,
    "start_time": "2024-10-22T13:08:08.479Z"
   },
   {
    "duration": 368,
    "start_time": "2024-10-22T13:08:27.348Z"
   },
   {
    "duration": 33,
    "start_time": "2024-10-22T13:08:27.718Z"
   },
   {
    "duration": 10,
    "start_time": "2024-10-22T13:08:27.753Z"
   },
   {
    "duration": 10,
    "start_time": "2024-10-22T13:08:27.764Z"
   },
   {
    "duration": 716,
    "start_time": "2024-10-22T13:08:27.776Z"
   },
   {
    "duration": 129,
    "start_time": "2024-10-22T13:08:28.494Z"
   },
   {
    "duration": 10,
    "start_time": "2024-10-22T13:08:28.624Z"
   },
   {
    "duration": 35,
    "start_time": "2024-10-22T13:08:28.635Z"
   },
   {
    "duration": 23,
    "start_time": "2024-10-22T13:08:28.672Z"
   },
   {
    "duration": 45,
    "start_time": "2024-10-22T13:08:28.697Z"
   },
   {
    "duration": 210,
    "start_time": "2024-10-22T13:08:28.744Z"
   },
   {
    "duration": 0,
    "start_time": "2024-10-22T13:08:28.956Z"
   },
   {
    "duration": 0,
    "start_time": "2024-10-22T13:08:28.958Z"
   },
   {
    "duration": 0,
    "start_time": "2024-10-22T13:08:28.960Z"
   },
   {
    "duration": 206,
    "start_time": "2024-10-22T13:11:24.936Z"
   },
   {
    "duration": 395,
    "start_time": "2024-10-22T13:13:36.244Z"
   },
   {
    "duration": 34,
    "start_time": "2024-10-22T13:13:36.641Z"
   },
   {
    "duration": 10,
    "start_time": "2024-10-22T13:13:36.677Z"
   },
   {
    "duration": 53,
    "start_time": "2024-10-22T13:13:36.689Z"
   },
   {
    "duration": 721,
    "start_time": "2024-10-22T13:13:36.743Z"
   },
   {
    "duration": 124,
    "start_time": "2024-10-22T13:13:37.466Z"
   },
   {
    "duration": 11,
    "start_time": "2024-10-22T13:13:37.592Z"
   },
   {
    "duration": 239,
    "start_time": "2024-10-22T13:13:37.605Z"
   },
   {
    "duration": 23,
    "start_time": "2024-10-22T13:13:37.846Z"
   },
   {
    "duration": 20,
    "start_time": "2024-10-22T13:13:37.871Z"
   },
   {
    "duration": 280,
    "start_time": "2024-10-22T13:13:37.893Z"
   },
   {
    "duration": 313,
    "start_time": "2024-10-22T13:13:38.174Z"
   },
   {
    "duration": 207,
    "start_time": "2024-10-22T13:13:38.489Z"
   },
   {
    "duration": 57,
    "start_time": "2024-10-22T13:13:38.698Z"
   },
   {
    "duration": 273,
    "start_time": "2024-10-22T13:19:10.860Z"
   },
   {
    "duration": 61,
    "start_time": "2024-10-22T13:20:52.959Z"
   },
   {
    "duration": 366,
    "start_time": "2024-10-23T07:24:44.273Z"
   },
   {
    "duration": 75,
    "start_time": "2024-10-23T07:24:44.640Z"
   },
   {
    "duration": 8,
    "start_time": "2024-10-23T07:24:44.717Z"
   },
   {
    "duration": 7,
    "start_time": "2024-10-23T07:24:44.726Z"
   },
   {
    "duration": 806,
    "start_time": "2024-10-23T07:24:44.735Z"
   },
   {
    "duration": 228,
    "start_time": "2024-10-23T07:24:45.543Z"
   },
   {
    "duration": 10,
    "start_time": "2024-10-23T07:24:45.772Z"
   },
   {
    "duration": 45,
    "start_time": "2024-10-23T07:24:45.783Z"
   },
   {
    "duration": 40,
    "start_time": "2024-10-23T07:24:45.829Z"
   },
   {
    "duration": 28,
    "start_time": "2024-10-23T07:24:45.871Z"
   },
   {
    "duration": 194,
    "start_time": "2024-10-23T07:24:45.901Z"
   },
   {
    "duration": 239,
    "start_time": "2024-10-23T07:24:46.097Z"
   },
   {
    "duration": 160,
    "start_time": "2024-10-23T07:24:46.337Z"
   },
   {
    "duration": 320,
    "start_time": "2024-10-23T07:24:46.498Z"
   },
   {
    "duration": 102,
    "start_time": "2024-10-23T07:32:41.812Z"
   },
   {
    "duration": 13,
    "start_time": "2024-10-23T07:32:51.432Z"
   },
   {
    "duration": 8,
    "start_time": "2024-10-23T07:36:29.819Z"
   },
   {
    "duration": 11,
    "start_time": "2024-10-23T07:36:37.052Z"
   },
   {
    "duration": 4,
    "start_time": "2024-10-23T07:38:01.494Z"
   },
   {
    "duration": 5,
    "start_time": "2024-10-23T07:38:22.291Z"
   },
   {
    "duration": 126,
    "start_time": "2024-10-23T07:38:51.985Z"
   },
   {
    "duration": 165,
    "start_time": "2024-10-23T07:38:59.931Z"
   },
   {
    "duration": 128,
    "start_time": "2024-10-23T07:39:34.710Z"
   },
   {
    "duration": 155,
    "start_time": "2024-10-23T07:43:29.847Z"
   },
   {
    "duration": 133,
    "start_time": "2024-10-23T07:43:34.001Z"
   },
   {
    "duration": 282,
    "start_time": "2024-10-23T07:47:01.186Z"
   },
   {
    "duration": 336,
    "start_time": "2024-10-23T07:49:34.973Z"
   },
   {
    "duration": 322,
    "start_time": "2024-10-23T07:49:45.040Z"
   },
   {
    "duration": 272,
    "start_time": "2024-10-23T07:50:07.316Z"
   },
   {
    "duration": 269,
    "start_time": "2024-10-23T07:50:41.012Z"
   },
   {
    "duration": 273,
    "start_time": "2024-10-23T07:51:47.912Z"
   },
   {
    "duration": 79,
    "start_time": "2024-10-23T07:53:38.887Z"
   },
   {
    "duration": 71,
    "start_time": "2024-10-23T08:02:12.173Z"
   },
   {
    "duration": 70,
    "start_time": "2024-10-23T08:02:41.256Z"
   },
   {
    "duration": 1270,
    "start_time": "2024-10-23T08:02:50.598Z"
   },
   {
    "duration": 1322,
    "start_time": "2024-10-23T08:03:27.212Z"
   },
   {
    "duration": 1089,
    "start_time": "2024-10-23T08:04:03.929Z"
   },
   {
    "duration": 106,
    "start_time": "2024-10-23T08:05:19.632Z"
   },
   {
    "duration": 93,
    "start_time": "2024-10-23T08:06:25.995Z"
   },
   {
    "duration": 9,
    "start_time": "2024-10-23T08:06:32.958Z"
   },
   {
    "duration": 92,
    "start_time": "2024-10-23T08:07:30.584Z"
   },
   {
    "duration": 11,
    "start_time": "2024-10-23T08:08:35.920Z"
   },
   {
    "duration": 10,
    "start_time": "2024-10-23T08:08:56.019Z"
   },
   {
    "duration": 143,
    "start_time": "2024-10-23T08:10:22.740Z"
   },
   {
    "duration": 10,
    "start_time": "2024-10-23T08:11:20.286Z"
   },
   {
    "duration": 95,
    "start_time": "2024-10-23T08:11:53.836Z"
   },
   {
    "duration": 346,
    "start_time": "2024-10-23T08:20:40.507Z"
   },
   {
    "duration": 83,
    "start_time": "2024-10-23T08:20:40.857Z"
   },
   {
    "duration": 0,
    "start_time": "2024-10-23T08:20:40.942Z"
   },
   {
    "duration": 0,
    "start_time": "2024-10-23T08:20:40.943Z"
   },
   {
    "duration": 0,
    "start_time": "2024-10-23T08:20:40.944Z"
   },
   {
    "duration": 0,
    "start_time": "2024-10-23T08:20:40.945Z"
   },
   {
    "duration": 0,
    "start_time": "2024-10-23T08:20:40.946Z"
   },
   {
    "duration": 0,
    "start_time": "2024-10-23T08:20:40.947Z"
   },
   {
    "duration": 0,
    "start_time": "2024-10-23T08:20:40.948Z"
   },
   {
    "duration": 0,
    "start_time": "2024-10-23T08:20:40.949Z"
   },
   {
    "duration": 0,
    "start_time": "2024-10-23T08:20:40.949Z"
   },
   {
    "duration": 0,
    "start_time": "2024-10-23T08:20:40.950Z"
   },
   {
    "duration": 0,
    "start_time": "2024-10-23T08:20:40.951Z"
   },
   {
    "duration": 0,
    "start_time": "2024-10-23T08:20:40.952Z"
   },
   {
    "duration": 0,
    "start_time": "2024-10-23T08:20:40.953Z"
   },
   {
    "duration": 0,
    "start_time": "2024-10-23T08:20:40.957Z"
   },
   {
    "duration": 0,
    "start_time": "2024-10-23T08:20:40.958Z"
   },
   {
    "duration": 0,
    "start_time": "2024-10-23T08:20:40.959Z"
   },
   {
    "duration": 0,
    "start_time": "2024-10-23T08:20:40.960Z"
   },
   {
    "duration": 0,
    "start_time": "2024-10-23T08:20:40.961Z"
   },
   {
    "duration": 0,
    "start_time": "2024-10-23T08:20:40.962Z"
   },
   {
    "duration": 356,
    "start_time": "2024-10-23T08:21:42.693Z"
   },
   {
    "duration": 31,
    "start_time": "2024-10-23T08:21:43.051Z"
   },
   {
    "duration": 54,
    "start_time": "2024-10-23T08:21:43.084Z"
   },
   {
    "duration": 10,
    "start_time": "2024-10-23T08:21:43.139Z"
   },
   {
    "duration": 597,
    "start_time": "2024-10-23T08:21:43.150Z"
   },
   {
    "duration": 99,
    "start_time": "2024-10-23T08:21:43.749Z"
   },
   {
    "duration": 10,
    "start_time": "2024-10-23T08:21:43.849Z"
   },
   {
    "duration": 14,
    "start_time": "2024-10-23T08:21:43.860Z"
   },
   {
    "duration": 89,
    "start_time": "2024-10-23T08:21:43.875Z"
   },
   {
    "duration": 20,
    "start_time": "2024-10-23T08:21:43.966Z"
   },
   {
    "duration": 182,
    "start_time": "2024-10-23T08:21:43.988Z"
   },
   {
    "duration": 393,
    "start_time": "2024-10-23T08:21:45.655Z"
   },
   {
    "duration": 31,
    "start_time": "2024-10-23T08:21:46.050Z"
   },
   {
    "duration": 22,
    "start_time": "2024-10-23T08:21:46.082Z"
   },
   {
    "duration": 12,
    "start_time": "2024-10-23T08:21:46.105Z"
   },
   {
    "duration": 640,
    "start_time": "2024-10-23T08:21:46.119Z"
   },
   {
    "duration": 94,
    "start_time": "2024-10-23T08:21:46.761Z"
   },
   {
    "duration": 9,
    "start_time": "2024-10-23T08:21:46.856Z"
   },
   {
    "duration": 38,
    "start_time": "2024-10-23T08:21:46.866Z"
   },
   {
    "duration": 20,
    "start_time": "2024-10-23T08:21:46.905Z"
   },
   {
    "duration": 23,
    "start_time": "2024-10-23T08:21:46.926Z"
   },
   {
    "duration": 198,
    "start_time": "2024-10-23T08:21:46.950Z"
   },
   {
    "duration": 226,
    "start_time": "2024-10-23T08:21:47.150Z"
   },
   {
    "duration": 148,
    "start_time": "2024-10-23T08:21:47.377Z"
   },
   {
    "duration": 267,
    "start_time": "2024-10-23T08:21:47.527Z"
   },
   {
    "duration": 9,
    "start_time": "2024-10-23T08:21:47.796Z"
   },
   {
    "duration": 71,
    "start_time": "2024-10-23T08:21:47.806Z"
   },
   {
    "duration": 0,
    "start_time": "2024-10-23T08:21:47.879Z"
   },
   {
    "duration": 0,
    "start_time": "2024-10-23T08:21:47.879Z"
   },
   {
    "duration": 0,
    "start_time": "2024-10-23T08:21:47.880Z"
   },
   {
    "duration": 0,
    "start_time": "2024-10-23T08:21:47.881Z"
   },
   {
    "duration": 0,
    "start_time": "2024-10-23T08:21:47.882Z"
   },
   {
    "duration": 388,
    "start_time": "2024-10-23T08:22:07.321Z"
   },
   {
    "duration": 32,
    "start_time": "2024-10-23T08:22:07.711Z"
   },
   {
    "duration": 9,
    "start_time": "2024-10-23T08:22:07.744Z"
   },
   {
    "duration": 12,
    "start_time": "2024-10-23T08:22:07.754Z"
   },
   {
    "duration": 621,
    "start_time": "2024-10-23T08:22:07.768Z"
   },
   {
    "duration": 92,
    "start_time": "2024-10-23T08:22:08.391Z"
   },
   {
    "duration": 10,
    "start_time": "2024-10-23T08:22:08.485Z"
   },
   {
    "duration": 36,
    "start_time": "2024-10-23T08:22:08.497Z"
   },
   {
    "duration": 22,
    "start_time": "2024-10-23T08:22:08.534Z"
   },
   {
    "duration": 14,
    "start_time": "2024-10-23T08:22:08.558Z"
   },
   {
    "duration": 194,
    "start_time": "2024-10-23T08:22:08.574Z"
   },
   {
    "duration": 230,
    "start_time": "2024-10-23T08:22:08.769Z"
   },
   {
    "duration": 175,
    "start_time": "2024-10-23T08:22:09.001Z"
   },
   {
    "duration": 240,
    "start_time": "2024-10-23T08:22:09.179Z"
   },
   {
    "duration": 9,
    "start_time": "2024-10-23T08:22:09.421Z"
   },
   {
    "duration": 19,
    "start_time": "2024-10-23T08:22:09.432Z"
   },
   {
    "duration": 3,
    "start_time": "2024-10-23T08:22:09.457Z"
   },
   {
    "duration": 142,
    "start_time": "2024-10-23T08:22:09.462Z"
   },
   {
    "duration": 278,
    "start_time": "2024-10-23T08:22:09.606Z"
   },
   {
    "duration": 103,
    "start_time": "2024-10-23T08:22:09.885Z"
   },
   {
    "duration": 195,
    "start_time": "2024-10-23T08:22:09.990Z"
   },
   {
    "duration": 341,
    "start_time": "2024-10-23T08:22:36.297Z"
   },
   {
    "duration": 30,
    "start_time": "2024-10-23T08:22:36.640Z"
   },
   {
    "duration": 8,
    "start_time": "2024-10-23T08:22:36.671Z"
   },
   {
    "duration": 31,
    "start_time": "2024-10-23T08:22:36.681Z"
   },
   {
    "duration": 642,
    "start_time": "2024-10-23T08:22:36.713Z"
   },
   {
    "duration": 93,
    "start_time": "2024-10-23T08:22:37.357Z"
   },
   {
    "duration": 9,
    "start_time": "2024-10-23T08:22:37.451Z"
   },
   {
    "duration": 12,
    "start_time": "2024-10-23T08:22:37.462Z"
   },
   {
    "duration": 38,
    "start_time": "2024-10-23T08:22:37.475Z"
   },
   {
    "duration": 8,
    "start_time": "2024-10-23T08:22:37.515Z"
   },
   {
    "duration": 178,
    "start_time": "2024-10-23T08:22:37.525Z"
   },
   {
    "duration": 232,
    "start_time": "2024-10-23T08:22:37.705Z"
   },
   {
    "duration": 163,
    "start_time": "2024-10-23T08:22:37.938Z"
   },
   {
    "duration": 234,
    "start_time": "2024-10-23T08:22:38.102Z"
   },
   {
    "duration": 19,
    "start_time": "2024-10-23T08:22:38.338Z"
   },
   {
    "duration": 5,
    "start_time": "2024-10-23T08:22:38.359Z"
   },
   {
    "duration": 15,
    "start_time": "2024-10-23T08:22:38.366Z"
   },
   {
    "duration": 179,
    "start_time": "2024-10-23T08:22:38.382Z"
   },
   {
    "duration": 296,
    "start_time": "2024-10-23T08:22:38.563Z"
   },
   {
    "duration": 103,
    "start_time": "2024-10-23T08:22:38.861Z"
   },
   {
    "duration": 392,
    "start_time": "2024-10-23T08:23:52.746Z"
   },
   {
    "duration": 30,
    "start_time": "2024-10-23T08:23:53.140Z"
   },
   {
    "duration": 39,
    "start_time": "2024-10-23T08:23:53.172Z"
   },
   {
    "duration": 16,
    "start_time": "2024-10-23T08:23:53.213Z"
   },
   {
    "duration": 601,
    "start_time": "2024-10-23T08:23:53.230Z"
   },
   {
    "duration": 85,
    "start_time": "2024-10-23T08:23:53.832Z"
   },
   {
    "duration": 65,
    "start_time": "2024-10-23T08:23:53.918Z"
   },
   {
    "duration": 12,
    "start_time": "2024-10-23T08:23:53.984Z"
   },
   {
    "duration": 23,
    "start_time": "2024-10-23T08:23:53.997Z"
   },
   {
    "duration": 27,
    "start_time": "2024-10-23T08:23:54.022Z"
   },
   {
    "duration": 207,
    "start_time": "2024-10-23T08:23:54.051Z"
   },
   {
    "duration": 244,
    "start_time": "2024-10-23T08:23:54.260Z"
   },
   {
    "duration": 156,
    "start_time": "2024-10-23T08:23:54.506Z"
   },
   {
    "duration": 270,
    "start_time": "2024-10-23T08:23:54.664Z"
   },
   {
    "duration": 9,
    "start_time": "2024-10-23T08:23:54.935Z"
   },
   {
    "duration": 16,
    "start_time": "2024-10-23T08:23:54.946Z"
   },
   {
    "duration": 8,
    "start_time": "2024-10-23T08:23:54.964Z"
   },
   {
    "duration": 142,
    "start_time": "2024-10-23T08:23:54.974Z"
   },
   {
    "duration": 294,
    "start_time": "2024-10-23T08:23:55.118Z"
   },
   {
    "duration": 104,
    "start_time": "2024-10-23T08:23:55.414Z"
   },
   {
    "duration": 4,
    "start_time": "2024-10-23T08:23:55.520Z"
   },
   {
    "duration": 4,
    "start_time": "2024-10-23T08:25:14.792Z"
   },
   {
    "duration": 105,
    "start_time": "2024-10-23T08:32:42.899Z"
   },
   {
    "duration": 3,
    "start_time": "2024-10-23T08:35:24.069Z"
   },
   {
    "duration": 340,
    "start_time": "2024-10-23T08:38:51.207Z"
   },
   {
    "duration": 30,
    "start_time": "2024-10-23T08:38:51.549Z"
   },
   {
    "duration": 7,
    "start_time": "2024-10-23T08:38:51.581Z"
   },
   {
    "duration": 7,
    "start_time": "2024-10-23T08:38:51.590Z"
   },
   {
    "duration": 619,
    "start_time": "2024-10-23T08:38:51.598Z"
   },
   {
    "duration": 85,
    "start_time": "2024-10-23T08:38:52.218Z"
   },
   {
    "duration": 10,
    "start_time": "2024-10-23T08:38:52.306Z"
   },
   {
    "duration": 19,
    "start_time": "2024-10-23T08:38:52.317Z"
   },
   {
    "duration": 21,
    "start_time": "2024-10-23T08:38:52.337Z"
   },
   {
    "duration": 10,
    "start_time": "2024-10-23T08:38:52.361Z"
   },
   {
    "duration": 197,
    "start_time": "2024-10-23T08:38:52.373Z"
   },
   {
    "duration": 232,
    "start_time": "2024-10-23T08:38:52.571Z"
   },
   {
    "duration": 158,
    "start_time": "2024-10-23T08:38:52.804Z"
   },
   {
    "duration": 251,
    "start_time": "2024-10-23T08:38:52.964Z"
   },
   {
    "duration": 9,
    "start_time": "2024-10-23T08:38:53.216Z"
   },
   {
    "duration": 5,
    "start_time": "2024-10-23T08:38:53.226Z"
   },
   {
    "duration": 8,
    "start_time": "2024-10-23T08:38:53.232Z"
   },
   {
    "duration": 156,
    "start_time": "2024-10-23T08:38:53.241Z"
   },
   {
    "duration": 298,
    "start_time": "2024-10-23T08:38:53.399Z"
   },
   {
    "duration": 108,
    "start_time": "2024-10-23T08:38:53.698Z"
   },
   {
    "duration": 3,
    "start_time": "2024-10-23T08:38:53.808Z"
   },
   {
    "duration": 117,
    "start_time": "2024-10-23T08:38:53.812Z"
   },
   {
    "duration": 4,
    "start_time": "2024-10-23T08:38:53.930Z"
   },
   {
    "duration": 146,
    "start_time": "2024-10-23T08:44:21.047Z"
   },
   {
    "duration": 141,
    "start_time": "2024-10-23T08:45:57.630Z"
   },
   {
    "duration": 17,
    "start_time": "2024-10-23T08:50:59.130Z"
   },
   {
    "duration": 1198,
    "start_time": "2024-10-23T08:55:57.498Z"
   },
   {
    "duration": 1089,
    "start_time": "2024-10-23T08:56:30.413Z"
   },
   {
    "duration": 1059,
    "start_time": "2024-10-23T08:56:55.677Z"
   },
   {
    "duration": 347,
    "start_time": "2024-10-23T08:57:14.595Z"
   },
   {
    "duration": 31,
    "start_time": "2024-10-23T08:57:14.943Z"
   },
   {
    "duration": 7,
    "start_time": "2024-10-23T08:57:14.975Z"
   },
   {
    "duration": 15,
    "start_time": "2024-10-23T08:57:14.984Z"
   },
   {
    "duration": 657,
    "start_time": "2024-10-23T08:57:15.000Z"
   },
   {
    "duration": 92,
    "start_time": "2024-10-23T08:57:15.659Z"
   },
   {
    "duration": 8,
    "start_time": "2024-10-23T08:57:15.753Z"
   },
   {
    "duration": 9,
    "start_time": "2024-10-23T08:57:15.762Z"
   },
   {
    "duration": 15,
    "start_time": "2024-10-23T08:57:15.772Z"
   },
   {
    "duration": 9,
    "start_time": "2024-10-23T08:57:15.789Z"
   },
   {
    "duration": 204,
    "start_time": "2024-10-23T08:57:15.799Z"
   },
   {
    "duration": 225,
    "start_time": "2024-10-23T08:57:16.005Z"
   },
   {
    "duration": 179,
    "start_time": "2024-10-23T08:57:16.231Z"
   },
   {
    "duration": 253,
    "start_time": "2024-10-23T08:57:16.412Z"
   },
   {
    "duration": 9,
    "start_time": "2024-10-23T08:57:16.666Z"
   },
   {
    "duration": 11,
    "start_time": "2024-10-23T08:57:16.677Z"
   },
   {
    "duration": 13,
    "start_time": "2024-10-23T08:57:16.689Z"
   },
   {
    "duration": 149,
    "start_time": "2024-10-23T08:57:16.703Z"
   },
   {
    "duration": 298,
    "start_time": "2024-10-23T08:57:16.853Z"
   },
   {
    "duration": 100,
    "start_time": "2024-10-23T08:57:17.157Z"
   },
   {
    "duration": 16,
    "start_time": "2024-10-23T08:57:17.259Z"
   },
   {
    "duration": 108,
    "start_time": "2024-10-23T08:57:17.276Z"
   },
   {
    "duration": 3,
    "start_time": "2024-10-23T08:57:17.386Z"
   },
   {
    "duration": 169,
    "start_time": "2024-10-23T08:57:17.390Z"
   },
   {
    "duration": 11,
    "start_time": "2024-10-23T08:57:17.560Z"
   },
   {
    "duration": 1190,
    "start_time": "2024-10-23T08:57:17.573Z"
   },
   {
    "duration": 7,
    "start_time": "2024-10-23T08:58:06.449Z"
   },
   {
    "duration": 1155,
    "start_time": "2024-10-23T08:58:38.685Z"
   },
   {
    "duration": 8,
    "start_time": "2024-10-23T09:00:57.126Z"
   },
   {
    "duration": 7,
    "start_time": "2024-10-23T09:01:34.202Z"
   },
   {
    "duration": 25,
    "start_time": "2024-10-23T09:04:07.862Z"
   },
   {
    "duration": 23,
    "start_time": "2024-10-23T09:04:25.447Z"
   },
   {
    "duration": 12,
    "start_time": "2024-10-23T09:06:38.185Z"
   },
   {
    "duration": 165,
    "start_time": "2024-10-23T11:12:02.061Z"
   },
   {
    "duration": 159,
    "start_time": "2024-10-23T11:12:36.122Z"
   },
   {
    "duration": 330,
    "start_time": "2024-10-23T11:13:20.400Z"
   },
   {
    "duration": 160,
    "start_time": "2024-10-23T11:18:36.228Z"
   },
   {
    "duration": 287,
    "start_time": "2024-10-23T11:19:20.898Z"
   },
   {
    "duration": 124,
    "start_time": "2024-10-23T11:20:26.015Z"
   },
   {
    "duration": 126,
    "start_time": "2024-10-23T11:20:59.819Z"
   },
   {
    "duration": 415,
    "start_time": "2024-10-23T11:41:46.878Z"
   },
   {
    "duration": 82,
    "start_time": "2024-10-23T11:41:47.295Z"
   },
   {
    "duration": 8,
    "start_time": "2024-10-23T11:41:47.379Z"
   },
   {
    "duration": 7,
    "start_time": "2024-10-23T11:41:47.389Z"
   },
   {
    "duration": 774,
    "start_time": "2024-10-23T11:41:47.398Z"
   },
   {
    "duration": 198,
    "start_time": "2024-10-23T11:41:48.174Z"
   },
   {
    "duration": 10,
    "start_time": "2024-10-23T11:41:48.374Z"
   },
   {
    "duration": 11,
    "start_time": "2024-10-23T11:41:48.385Z"
   },
   {
    "duration": 11,
    "start_time": "2024-10-23T11:41:48.398Z"
   },
   {
    "duration": 12,
    "start_time": "2024-10-23T11:41:48.411Z"
   },
   {
    "duration": 205,
    "start_time": "2024-10-23T11:41:48.424Z"
   },
   {
    "duration": 265,
    "start_time": "2024-10-23T11:41:48.630Z"
   },
   {
    "duration": 181,
    "start_time": "2024-10-23T11:41:48.896Z"
   },
   {
    "duration": 355,
    "start_time": "2024-10-23T11:41:49.078Z"
   },
   {
    "duration": 9,
    "start_time": "2024-10-23T11:41:49.435Z"
   },
   {
    "duration": 6,
    "start_time": "2024-10-23T11:41:49.446Z"
   },
   {
    "duration": 7,
    "start_time": "2024-10-23T11:41:49.453Z"
   },
   {
    "duration": 192,
    "start_time": "2024-10-23T11:41:49.462Z"
   },
   {
    "duration": 324,
    "start_time": "2024-10-23T11:41:49.656Z"
   },
   {
    "duration": 137,
    "start_time": "2024-10-23T11:41:49.982Z"
   },
   {
    "duration": 4,
    "start_time": "2024-10-23T11:41:50.120Z"
   },
   {
    "duration": 150,
    "start_time": "2024-10-23T11:41:50.126Z"
   },
   {
    "duration": 3,
    "start_time": "2024-10-23T11:41:50.278Z"
   },
   {
    "duration": 154,
    "start_time": "2024-10-23T11:41:50.294Z"
   },
   {
    "duration": 11,
    "start_time": "2024-10-23T11:41:50.450Z"
   },
   {
    "duration": 11,
    "start_time": "2024-10-23T11:41:50.463Z"
   },
   {
    "duration": 21,
    "start_time": "2024-10-23T11:41:50.476Z"
   },
   {
    "duration": 28,
    "start_time": "2024-10-23T11:41:50.499Z"
   },
   {
    "duration": 13,
    "start_time": "2024-10-23T11:41:50.528Z"
   },
   {
    "duration": 75,
    "start_time": "2024-10-27T13:10:56.404Z"
   },
   {
    "duration": 90,
    "start_time": "2024-10-27T13:11:42.803Z"
   },
   {
    "duration": 384,
    "start_time": "2024-10-27T13:16:55.972Z"
   },
   {
    "duration": 75,
    "start_time": "2024-10-27T13:16:56.358Z"
   },
   {
    "duration": 1433,
    "start_time": "2024-10-27T13:16:56.434Z"
   },
   {
    "duration": 0,
    "start_time": "2024-10-27T13:16:57.870Z"
   },
   {
    "duration": 0,
    "start_time": "2024-10-27T13:16:57.871Z"
   },
   {
    "duration": 0,
    "start_time": "2024-10-27T13:16:57.872Z"
   },
   {
    "duration": 0,
    "start_time": "2024-10-27T13:16:57.873Z"
   },
   {
    "duration": 0,
    "start_time": "2024-10-27T13:16:57.873Z"
   },
   {
    "duration": 0,
    "start_time": "2024-10-27T13:16:57.874Z"
   },
   {
    "duration": 0,
    "start_time": "2024-10-27T13:16:57.875Z"
   },
   {
    "duration": 0,
    "start_time": "2024-10-27T13:16:57.876Z"
   },
   {
    "duration": 0,
    "start_time": "2024-10-27T13:16:57.877Z"
   },
   {
    "duration": 0,
    "start_time": "2024-10-27T13:16:57.878Z"
   },
   {
    "duration": 0,
    "start_time": "2024-10-27T13:16:57.879Z"
   },
   {
    "duration": 0,
    "start_time": "2024-10-27T13:16:57.880Z"
   },
   {
    "duration": 0,
    "start_time": "2024-10-27T13:16:57.881Z"
   },
   {
    "duration": 0,
    "start_time": "2024-10-27T13:16:57.882Z"
   },
   {
    "duration": 0,
    "start_time": "2024-10-27T13:16:57.883Z"
   },
   {
    "duration": 0,
    "start_time": "2024-10-27T13:16:57.884Z"
   },
   {
    "duration": 0,
    "start_time": "2024-10-27T13:16:57.884Z"
   },
   {
    "duration": 0,
    "start_time": "2024-10-27T13:16:57.885Z"
   },
   {
    "duration": 0,
    "start_time": "2024-10-27T13:16:57.886Z"
   },
   {
    "duration": 0,
    "start_time": "2024-10-27T13:16:57.887Z"
   },
   {
    "duration": 0,
    "start_time": "2024-10-27T13:16:57.887Z"
   },
   {
    "duration": 0,
    "start_time": "2024-10-27T13:16:57.889Z"
   },
   {
    "duration": 1,
    "start_time": "2024-10-27T13:16:57.889Z"
   },
   {
    "duration": 0,
    "start_time": "2024-10-27T13:16:57.890Z"
   },
   {
    "duration": 0,
    "start_time": "2024-10-27T13:16:57.891Z"
   },
   {
    "duration": 0,
    "start_time": "2024-10-27T13:16:57.892Z"
   },
   {
    "duration": 36,
    "start_time": "2024-10-27T13:17:32.528Z"
   },
   {
    "duration": 9,
    "start_time": "2024-10-27T13:18:25.408Z"
   },
   {
    "duration": 7,
    "start_time": "2024-10-27T13:19:06.696Z"
   },
   {
    "duration": 411,
    "start_time": "2024-10-27T13:20:44.732Z"
   },
   {
    "duration": 39,
    "start_time": "2024-10-27T13:20:45.145Z"
   },
   {
    "duration": 8,
    "start_time": "2024-10-27T13:20:45.185Z"
   },
   {
    "duration": 25,
    "start_time": "2024-10-27T13:20:45.195Z"
   },
   {
    "duration": 788,
    "start_time": "2024-10-27T13:20:45.222Z"
   },
   {
    "duration": 216,
    "start_time": "2024-10-27T13:20:46.012Z"
   },
   {
    "duration": 7,
    "start_time": "2024-10-27T13:20:46.230Z"
   },
   {
    "duration": 14,
    "start_time": "2024-10-27T13:20:46.238Z"
   },
   {
    "duration": 64,
    "start_time": "2024-10-27T13:20:46.253Z"
   },
   {
    "duration": 15,
    "start_time": "2024-10-27T13:20:46.319Z"
   },
   {
    "duration": 187,
    "start_time": "2024-10-27T13:20:46.335Z"
   },
   {
    "duration": 235,
    "start_time": "2024-10-27T13:20:46.523Z"
   },
   {
    "duration": 166,
    "start_time": "2024-10-27T13:20:46.760Z"
   },
   {
    "duration": 348,
    "start_time": "2024-10-27T13:20:46.927Z"
   },
   {
    "duration": 8,
    "start_time": "2024-10-27T13:20:47.276Z"
   },
   {
    "duration": 5,
    "start_time": "2024-10-27T13:20:47.285Z"
   },
   {
    "duration": 4,
    "start_time": "2024-10-27T13:20:47.291Z"
   },
   {
    "duration": 181,
    "start_time": "2024-10-27T13:20:47.296Z"
   },
   {
    "duration": 301,
    "start_time": "2024-10-27T13:20:47.479Z"
   },
   {
    "duration": 116,
    "start_time": "2024-10-27T13:20:47.782Z"
   },
   {
    "duration": 3,
    "start_time": "2024-10-27T13:20:47.899Z"
   },
   {
    "duration": 148,
    "start_time": "2024-10-27T13:20:47.904Z"
   },
   {
    "duration": 6,
    "start_time": "2024-10-27T13:20:48.053Z"
   },
   {
    "duration": 164,
    "start_time": "2024-10-27T13:20:48.061Z"
   },
   {
    "duration": 11,
    "start_time": "2024-10-27T13:20:48.226Z"
   },
   {
    "duration": 22,
    "start_time": "2024-10-27T13:20:48.238Z"
   },
   {
    "duration": 78,
    "start_time": "2024-10-27T13:20:48.261Z"
   },
   {
    "duration": 25,
    "start_time": "2024-10-27T13:20:48.343Z"
   },
   {
    "duration": 15,
    "start_time": "2024-10-27T13:20:48.370Z"
   },
   {
    "duration": 70,
    "start_time": "2024-10-27T13:22:10.322Z"
   },
   {
    "duration": 6,
    "start_time": "2024-10-27T13:25:11.685Z"
   },
   {
    "duration": 5,
    "start_time": "2024-10-27T13:25:35.403Z"
   },
   {
    "duration": 4,
    "start_time": "2024-10-27T13:28:28.438Z"
   },
   {
    "duration": 7,
    "start_time": "2024-10-27T13:30:21.087Z"
   },
   {
    "duration": 13,
    "start_time": "2024-10-27T13:46:04.804Z"
   },
   {
    "duration": 13,
    "start_time": "2024-10-27T13:47:21.280Z"
   },
   {
    "duration": 1012,
    "start_time": "2024-10-27T13:47:40.156Z"
   },
   {
    "duration": 68,
    "start_time": "2024-10-27T13:47:41.170Z"
   },
   {
    "duration": 7,
    "start_time": "2024-10-27T13:47:41.240Z"
   },
   {
    "duration": 7,
    "start_time": "2024-10-27T13:47:41.249Z"
   },
   {
    "duration": 60,
    "start_time": "2024-10-27T13:47:41.257Z"
   },
   {
    "duration": 7,
    "start_time": "2024-10-27T13:47:41.318Z"
   },
   {
    "duration": 13,
    "start_time": "2024-10-27T13:47:41.326Z"
   },
   {
    "duration": 11,
    "start_time": "2024-10-27T13:47:41.340Z"
   },
   {
    "duration": 9,
    "start_time": "2024-10-27T13:47:41.353Z"
   },
   {
    "duration": 2,
    "start_time": "2024-10-27T13:47:41.364Z"
   },
   {
    "duration": 11,
    "start_time": "2024-10-27T13:47:41.367Z"
   },
   {
    "duration": 4,
    "start_time": "2024-10-27T13:47:41.380Z"
   },
   {
    "duration": 15,
    "start_time": "2024-10-27T13:47:41.385Z"
   },
   {
    "duration": 207,
    "start_time": "2024-10-27T13:47:41.401Z"
   },
   {
    "duration": 242,
    "start_time": "2024-10-27T13:47:41.609Z"
   },
   {
    "duration": 162,
    "start_time": "2024-10-27T13:47:41.852Z"
   },
   {
    "duration": 272,
    "start_time": "2024-10-27T13:47:42.016Z"
   },
   {
    "duration": 9,
    "start_time": "2024-10-27T13:47:42.289Z"
   },
   {
    "duration": 9,
    "start_time": "2024-10-27T13:47:42.300Z"
   },
   {
    "duration": 5,
    "start_time": "2024-10-27T13:47:42.310Z"
   },
   {
    "duration": 186,
    "start_time": "2024-10-27T13:47:42.316Z"
   },
   {
    "duration": 326,
    "start_time": "2024-10-27T13:47:42.504Z"
   },
   {
    "duration": 125,
    "start_time": "2024-10-27T13:47:42.832Z"
   },
   {
    "duration": 4,
    "start_time": "2024-10-27T13:47:42.959Z"
   },
   {
    "duration": 141,
    "start_time": "2024-10-27T13:47:42.964Z"
   },
   {
    "duration": 4,
    "start_time": "2024-10-27T13:47:43.106Z"
   },
   {
    "duration": 167,
    "start_time": "2024-10-27T13:47:43.112Z"
   },
   {
    "duration": 11,
    "start_time": "2024-10-27T13:47:43.283Z"
   },
   {
    "duration": 8,
    "start_time": "2024-10-27T13:47:43.296Z"
   },
   {
    "duration": 9,
    "start_time": "2024-10-27T13:47:43.306Z"
   },
   {
    "duration": 51,
    "start_time": "2024-10-27T13:47:43.316Z"
   },
   {
    "duration": 12,
    "start_time": "2024-10-27T13:47:43.369Z"
   },
   {
    "duration": 8,
    "start_time": "2024-10-27T13:48:24.232Z"
   },
   {
    "duration": 8,
    "start_time": "2024-10-27T13:48:47.018Z"
   },
   {
    "duration": 91,
    "start_time": "2024-10-27T13:49:23.642Z"
   },
   {
    "duration": 9,
    "start_time": "2024-10-27T13:50:33.123Z"
   },
   {
    "duration": 7,
    "start_time": "2024-10-27T13:51:05.469Z"
   },
   {
    "duration": 82,
    "start_time": "2024-10-27T13:53:53.670Z"
   },
   {
    "duration": 71,
    "start_time": "2024-10-27T13:59:35.560Z"
   },
   {
    "duration": 9,
    "start_time": "2024-10-27T13:59:59.991Z"
   },
   {
    "duration": 14,
    "start_time": "2024-10-27T14:01:01.543Z"
   },
   {
    "duration": 11,
    "start_time": "2024-10-27T14:01:44.511Z"
   },
   {
    "duration": 9,
    "start_time": "2024-10-27T14:02:21.637Z"
   },
   {
    "duration": 8,
    "start_time": "2024-10-27T14:02:47.055Z"
   },
   {
    "duration": 8,
    "start_time": "2024-10-27T14:08:15.400Z"
   },
   {
    "duration": 17,
    "start_time": "2024-10-27T14:08:23.314Z"
   },
   {
    "duration": 7,
    "start_time": "2024-10-27T14:15:41.177Z"
   },
   {
    "duration": 9,
    "start_time": "2024-10-27T14:15:52.467Z"
   },
   {
    "duration": 182,
    "start_time": "2024-10-27T14:22:06.079Z"
   },
   {
    "duration": 179,
    "start_time": "2024-10-27T14:23:26.763Z"
   },
   {
    "duration": 95,
    "start_time": "2024-10-27T14:26:47.247Z"
   },
   {
    "duration": 1090,
    "start_time": "2024-10-27T14:27:27.592Z"
   },
   {
    "duration": 1114,
    "start_time": "2024-10-27T14:27:41.485Z"
   },
   {
    "duration": 1015,
    "start_time": "2024-10-27T14:27:47.402Z"
   },
   {
    "duration": 80,
    "start_time": "2024-10-27T14:27:48.419Z"
   },
   {
    "duration": 7,
    "start_time": "2024-10-27T14:27:48.501Z"
   },
   {
    "duration": 39,
    "start_time": "2024-10-27T14:27:48.510Z"
   },
   {
    "duration": 62,
    "start_time": "2024-10-27T14:27:48.551Z"
   },
   {
    "duration": 7,
    "start_time": "2024-10-27T14:27:48.614Z"
   },
   {
    "duration": 10,
    "start_time": "2024-10-27T14:27:48.623Z"
   },
   {
    "duration": 9,
    "start_time": "2024-10-27T14:27:48.635Z"
   },
   {
    "duration": 12,
    "start_time": "2024-10-27T14:27:48.646Z"
   },
   {
    "duration": 14,
    "start_time": "2024-10-27T14:27:48.660Z"
   },
   {
    "duration": 6,
    "start_time": "2024-10-27T14:27:48.675Z"
   },
   {
    "duration": 20,
    "start_time": "2024-10-27T14:27:48.683Z"
   },
   {
    "duration": 93,
    "start_time": "2024-10-27T14:27:48.704Z"
   },
   {
    "duration": 25,
    "start_time": "2024-10-27T14:27:48.801Z"
   },
   {
    "duration": 187,
    "start_time": "2024-10-27T14:27:48.828Z"
   },
   {
    "duration": 253,
    "start_time": "2024-10-27T14:27:49.016Z"
   },
   {
    "duration": 170,
    "start_time": "2024-10-27T14:27:49.272Z"
   },
   {
    "duration": 295,
    "start_time": "2024-10-27T14:27:49.443Z"
   },
   {
    "duration": 25,
    "start_time": "2024-10-27T14:27:49.740Z"
   },
   {
    "duration": 9,
    "start_time": "2024-10-27T14:27:49.776Z"
   },
   {
    "duration": 6,
    "start_time": "2024-10-27T14:27:49.786Z"
   },
   {
    "duration": 174,
    "start_time": "2024-10-27T14:27:49.793Z"
   },
   {
    "duration": 320,
    "start_time": "2024-10-27T14:27:49.968Z"
   },
   {
    "duration": 125,
    "start_time": "2024-10-27T14:27:50.290Z"
   },
   {
    "duration": 4,
    "start_time": "2024-10-27T14:27:50.416Z"
   },
   {
    "duration": 139,
    "start_time": "2024-10-27T14:27:50.421Z"
   },
   {
    "duration": 4,
    "start_time": "2024-10-27T14:27:50.561Z"
   },
   {
    "duration": 164,
    "start_time": "2024-10-27T14:27:50.566Z"
   },
   {
    "duration": 11,
    "start_time": "2024-10-27T14:27:50.731Z"
   },
   {
    "duration": 93,
    "start_time": "2024-10-27T14:27:50.743Z"
   },
   {
    "duration": 7,
    "start_time": "2024-10-27T14:27:50.838Z"
   },
   {
    "duration": 27,
    "start_time": "2024-10-27T14:27:50.846Z"
   },
   {
    "duration": 12,
    "start_time": "2024-10-27T14:27:50.874Z"
   },
   {
    "duration": 167,
    "start_time": "2024-10-27T14:28:15.983Z"
   },
   {
    "duration": 968,
    "start_time": "2024-10-27T14:28:56.678Z"
   },
   {
    "duration": 71,
    "start_time": "2024-10-27T14:28:57.647Z"
   },
   {
    "duration": 8,
    "start_time": "2024-10-27T14:28:57.720Z"
   },
   {
    "duration": 7,
    "start_time": "2024-10-27T14:28:57.729Z"
   },
   {
    "duration": 60,
    "start_time": "2024-10-27T14:28:57.737Z"
   },
   {
    "duration": 7,
    "start_time": "2024-10-27T14:28:57.798Z"
   },
   {
    "duration": 7,
    "start_time": "2024-10-27T14:28:57.806Z"
   },
   {
    "duration": 14,
    "start_time": "2024-10-27T14:28:57.814Z"
   },
   {
    "duration": 9,
    "start_time": "2024-10-27T14:28:57.829Z"
   },
   {
    "duration": 3,
    "start_time": "2024-10-27T14:28:57.840Z"
   },
   {
    "duration": 7,
    "start_time": "2024-10-27T14:28:57.844Z"
   },
   {
    "duration": 6,
    "start_time": "2024-10-27T14:28:57.853Z"
   },
   {
    "duration": 10,
    "start_time": "2024-10-27T14:28:57.860Z"
   },
   {
    "duration": 9,
    "start_time": "2024-10-27T14:28:57.872Z"
   },
   {
    "duration": 206,
    "start_time": "2024-10-27T14:28:57.882Z"
   },
   {
    "duration": 260,
    "start_time": "2024-10-27T14:28:58.089Z"
   },
   {
    "duration": 192,
    "start_time": "2024-10-27T14:28:58.351Z"
   },
   {
    "duration": 300,
    "start_time": "2024-10-27T14:28:58.544Z"
   },
   {
    "duration": 26,
    "start_time": "2024-10-27T14:28:58.845Z"
   },
   {
    "duration": 4,
    "start_time": "2024-10-27T14:28:58.873Z"
   },
   {
    "duration": 89,
    "start_time": "2024-10-27T14:28:58.879Z"
   },
   {
    "duration": 164,
    "start_time": "2024-10-27T14:28:58.970Z"
   },
   {
    "duration": 335,
    "start_time": "2024-10-27T14:28:59.136Z"
   },
   {
    "duration": 129,
    "start_time": "2024-10-27T14:28:59.473Z"
   },
   {
    "duration": 4,
    "start_time": "2024-10-27T14:28:59.604Z"
   },
   {
    "duration": 155,
    "start_time": "2024-10-27T14:28:59.610Z"
   },
   {
    "duration": 4,
    "start_time": "2024-10-27T14:28:59.766Z"
   },
   {
    "duration": 163,
    "start_time": "2024-10-27T14:28:59.774Z"
   },
   {
    "duration": 22,
    "start_time": "2024-10-27T14:28:59.938Z"
   },
   {
    "duration": 9,
    "start_time": "2024-10-27T14:28:59.962Z"
   },
   {
    "duration": 8,
    "start_time": "2024-10-27T14:28:59.973Z"
   },
   {
    "duration": 33,
    "start_time": "2024-10-27T14:28:59.982Z"
   },
   {
    "duration": 13,
    "start_time": "2024-10-27T14:29:00.016Z"
   },
   {
    "duration": 1029,
    "start_time": "2024-10-27T14:29:51.262Z"
   },
   {
    "duration": 68,
    "start_time": "2024-10-27T14:29:52.293Z"
   },
   {
    "duration": 8,
    "start_time": "2024-10-27T14:29:52.363Z"
   },
   {
    "duration": 7,
    "start_time": "2024-10-27T14:29:52.373Z"
   },
   {
    "duration": 62,
    "start_time": "2024-10-27T14:29:52.382Z"
   },
   {
    "duration": 21,
    "start_time": "2024-10-27T14:29:52.445Z"
   },
   {
    "duration": 58,
    "start_time": "2024-10-27T14:29:52.467Z"
   },
   {
    "duration": 26,
    "start_time": "2024-10-27T14:29:52.527Z"
   },
   {
    "duration": 26,
    "start_time": "2024-10-27T14:29:52.554Z"
   },
   {
    "duration": 23,
    "start_time": "2024-10-27T14:29:52.582Z"
   },
   {
    "duration": 26,
    "start_time": "2024-10-27T14:29:52.606Z"
   },
   {
    "duration": 4,
    "start_time": "2024-10-27T14:29:52.634Z"
   },
   {
    "duration": 27,
    "start_time": "2024-10-27T14:29:52.640Z"
   },
   {
    "duration": 7,
    "start_time": "2024-10-27T14:29:52.668Z"
   },
   {
    "duration": 193,
    "start_time": "2024-10-27T14:29:52.676Z"
   },
   {
    "duration": 256,
    "start_time": "2024-10-27T14:29:52.871Z"
   },
   {
    "duration": 172,
    "start_time": "2024-10-27T14:29:53.129Z"
   },
   {
    "duration": 994,
    "start_time": "2024-10-27T14:29:56.159Z"
   },
   {
    "duration": 67,
    "start_time": "2024-10-27T14:29:57.155Z"
   },
   {
    "duration": 7,
    "start_time": "2024-10-27T14:29:57.224Z"
   },
   {
    "duration": 7,
    "start_time": "2024-10-27T14:29:57.232Z"
   },
   {
    "duration": 63,
    "start_time": "2024-10-27T14:29:57.241Z"
   },
   {
    "duration": 7,
    "start_time": "2024-10-27T14:29:57.305Z"
   },
   {
    "duration": 7,
    "start_time": "2024-10-27T14:29:57.313Z"
   },
   {
    "duration": 9,
    "start_time": "2024-10-27T14:29:57.321Z"
   },
   {
    "duration": 8,
    "start_time": "2024-10-27T14:29:57.331Z"
   },
   {
    "duration": 6,
    "start_time": "2024-10-27T14:29:57.340Z"
   },
   {
    "duration": 19,
    "start_time": "2024-10-27T14:29:57.347Z"
   },
   {
    "duration": 12,
    "start_time": "2024-10-27T14:29:57.367Z"
   },
   {
    "duration": 7,
    "start_time": "2024-10-27T14:29:57.381Z"
   },
   {
    "duration": 7,
    "start_time": "2024-10-27T14:29:57.390Z"
   },
   {
    "duration": 199,
    "start_time": "2024-10-27T14:29:57.398Z"
   },
   {
    "duration": 251,
    "start_time": "2024-10-27T14:29:57.598Z"
   },
   {
    "duration": 174,
    "start_time": "2024-10-27T14:29:57.850Z"
   },
   {
    "duration": 306,
    "start_time": "2024-10-27T14:29:58.026Z"
   },
   {
    "duration": 15,
    "start_time": "2024-10-27T14:29:58.333Z"
   },
   {
    "duration": 6,
    "start_time": "2024-10-27T14:29:58.357Z"
   },
   {
    "duration": 5,
    "start_time": "2024-10-27T14:29:58.368Z"
   },
   {
    "duration": 190,
    "start_time": "2024-10-27T14:29:58.374Z"
   },
   {
    "duration": 312,
    "start_time": "2024-10-27T14:29:58.565Z"
   },
   {
    "duration": 124,
    "start_time": "2024-10-27T14:29:58.879Z"
   },
   {
    "duration": 3,
    "start_time": "2024-10-27T14:29:59.005Z"
   },
   {
    "duration": 147,
    "start_time": "2024-10-27T14:29:59.010Z"
   },
   {
    "duration": 5,
    "start_time": "2024-10-27T14:29:59.158Z"
   },
   {
    "duration": 177,
    "start_time": "2024-10-27T14:29:59.164Z"
   },
   {
    "duration": 10,
    "start_time": "2024-10-27T14:29:59.343Z"
   },
   {
    "duration": 27,
    "start_time": "2024-10-27T14:29:59.357Z"
   },
   {
    "duration": 9,
    "start_time": "2024-10-27T14:29:59.386Z"
   },
   {
    "duration": 22,
    "start_time": "2024-10-27T14:29:59.396Z"
   },
   {
    "duration": 24,
    "start_time": "2024-10-27T14:29:59.419Z"
   },
   {
    "duration": 11,
    "start_time": "2024-10-27T14:30:29.055Z"
   },
   {
    "duration": 9,
    "start_time": "2024-10-27T14:31:31.737Z"
   },
   {
    "duration": 995,
    "start_time": "2024-10-27T14:33:16.966Z"
   },
   {
    "duration": 48,
    "start_time": "2024-10-27T14:33:17.963Z"
   },
   {
    "duration": 7,
    "start_time": "2024-10-27T14:33:18.012Z"
   },
   {
    "duration": 7,
    "start_time": "2024-10-27T14:33:18.020Z"
   },
   {
    "duration": 81,
    "start_time": "2024-10-27T14:33:18.028Z"
   },
   {
    "duration": 7,
    "start_time": "2024-10-27T14:33:18.110Z"
   },
   {
    "duration": 11,
    "start_time": "2024-10-27T14:33:18.118Z"
   },
   {
    "duration": 26,
    "start_time": "2024-10-27T14:33:18.130Z"
   },
   {
    "duration": 28,
    "start_time": "2024-10-27T14:33:18.157Z"
   },
   {
    "duration": 9,
    "start_time": "2024-10-27T14:33:18.186Z"
   },
   {
    "duration": 11,
    "start_time": "2024-10-27T14:33:18.196Z"
   },
   {
    "duration": 14,
    "start_time": "2024-10-27T14:33:18.208Z"
   },
   {
    "duration": 19,
    "start_time": "2024-10-27T14:33:18.223Z"
   },
   {
    "duration": 14,
    "start_time": "2024-10-27T14:33:18.244Z"
   },
   {
    "duration": 237,
    "start_time": "2024-10-27T14:33:18.260Z"
   },
   {
    "duration": 270,
    "start_time": "2024-10-27T14:33:18.498Z"
   },
   {
    "duration": 187,
    "start_time": "2024-10-27T14:33:18.770Z"
   },
   {
    "duration": 311,
    "start_time": "2024-10-27T14:33:18.959Z"
   },
   {
    "duration": 16,
    "start_time": "2024-10-27T14:33:19.272Z"
   },
   {
    "duration": 4,
    "start_time": "2024-10-27T14:33:19.289Z"
   },
   {
    "duration": 8,
    "start_time": "2024-10-27T14:33:19.294Z"
   },
   {
    "duration": 196,
    "start_time": "2024-10-27T14:33:19.303Z"
   },
   {
    "duration": 305,
    "start_time": "2024-10-27T14:33:19.500Z"
   },
   {
    "duration": 127,
    "start_time": "2024-10-27T14:33:19.806Z"
   },
   {
    "duration": 4,
    "start_time": "2024-10-27T14:33:19.935Z"
   },
   {
    "duration": 160,
    "start_time": "2024-10-27T14:33:19.940Z"
   },
   {
    "duration": 4,
    "start_time": "2024-10-27T14:33:20.101Z"
   },
   {
    "duration": 171,
    "start_time": "2024-10-27T14:33:20.106Z"
   },
   {
    "duration": 13,
    "start_time": "2024-10-27T14:33:20.278Z"
   },
   {
    "duration": 8,
    "start_time": "2024-10-27T14:33:20.292Z"
   },
   {
    "duration": 11,
    "start_time": "2024-10-27T14:33:20.302Z"
   },
   {
    "duration": 45,
    "start_time": "2024-10-27T14:33:20.315Z"
   },
   {
    "duration": 14,
    "start_time": "2024-10-27T14:33:20.361Z"
   },
   {
    "duration": 9,
    "start_time": "2024-10-27T14:34:13.155Z"
   },
   {
    "duration": 972,
    "start_time": "2024-10-27T14:34:17.917Z"
   },
   {
    "duration": 69,
    "start_time": "2024-10-27T14:34:18.890Z"
   },
   {
    "duration": 9,
    "start_time": "2024-10-27T14:34:18.962Z"
   },
   {
    "duration": 11,
    "start_time": "2024-10-27T14:34:18.973Z"
   },
   {
    "duration": 92,
    "start_time": "2024-10-27T14:34:18.985Z"
   },
   {
    "duration": 7,
    "start_time": "2024-10-27T14:34:19.078Z"
   },
   {
    "duration": 28,
    "start_time": "2024-10-27T14:34:19.086Z"
   },
   {
    "duration": 12,
    "start_time": "2024-10-27T14:34:19.115Z"
   },
   {
    "duration": 20,
    "start_time": "2024-10-27T14:34:19.128Z"
   },
   {
    "duration": 6,
    "start_time": "2024-10-27T14:34:19.151Z"
   },
   {
    "duration": 6,
    "start_time": "2024-10-27T14:34:19.159Z"
   },
   {
    "duration": 14,
    "start_time": "2024-10-27T14:34:19.168Z"
   },
   {
    "duration": 11,
    "start_time": "2024-10-27T14:34:19.184Z"
   },
   {
    "duration": 9,
    "start_time": "2024-10-27T14:34:19.196Z"
   },
   {
    "duration": 199,
    "start_time": "2024-10-27T14:34:19.206Z"
   },
   {
    "duration": 264,
    "start_time": "2024-10-27T14:34:19.406Z"
   },
   {
    "duration": 172,
    "start_time": "2024-10-27T14:34:19.671Z"
   },
   {
    "duration": 296,
    "start_time": "2024-10-27T14:34:19.845Z"
   },
   {
    "duration": 21,
    "start_time": "2024-10-27T14:34:20.143Z"
   },
   {
    "duration": 12,
    "start_time": "2024-10-27T14:34:20.165Z"
   },
   {
    "duration": 8,
    "start_time": "2024-10-27T14:34:20.179Z"
   },
   {
    "duration": 184,
    "start_time": "2024-10-27T14:34:20.188Z"
   },
   {
    "duration": 308,
    "start_time": "2024-10-27T14:34:20.374Z"
   },
   {
    "duration": 133,
    "start_time": "2024-10-27T14:34:20.684Z"
   },
   {
    "duration": 4,
    "start_time": "2024-10-27T14:34:20.818Z"
   },
   {
    "duration": 157,
    "start_time": "2024-10-27T14:34:20.823Z"
   },
   {
    "duration": 4,
    "start_time": "2024-10-27T14:34:20.982Z"
   },
   {
    "duration": 188,
    "start_time": "2024-10-27T14:34:20.988Z"
   },
   {
    "duration": 14,
    "start_time": "2024-10-27T14:34:21.178Z"
   },
   {
    "duration": 8,
    "start_time": "2024-10-27T14:34:21.193Z"
   },
   {
    "duration": 8,
    "start_time": "2024-10-27T14:34:21.202Z"
   },
   {
    "duration": 46,
    "start_time": "2024-10-27T14:34:21.211Z"
   },
   {
    "duration": 13,
    "start_time": "2024-10-27T14:34:21.259Z"
   },
   {
    "duration": 994,
    "start_time": "2024-10-27T14:35:06.761Z"
   },
   {
    "duration": 68,
    "start_time": "2024-10-27T14:35:07.757Z"
   },
   {
    "duration": 8,
    "start_time": "2024-10-27T14:35:07.827Z"
   },
   {
    "duration": 7,
    "start_time": "2024-10-27T14:35:07.836Z"
   },
   {
    "duration": 81,
    "start_time": "2024-10-27T14:35:07.844Z"
   },
   {
    "duration": 7,
    "start_time": "2024-10-27T14:35:07.926Z"
   },
   {
    "duration": 8,
    "start_time": "2024-10-27T14:35:07.934Z"
   },
   {
    "duration": 29,
    "start_time": "2024-10-27T14:35:07.944Z"
   },
   {
    "duration": 10,
    "start_time": "2024-10-27T14:35:07.974Z"
   },
   {
    "duration": 5,
    "start_time": "2024-10-27T14:35:07.987Z"
   },
   {
    "duration": 10,
    "start_time": "2024-10-27T14:35:07.993Z"
   },
   {
    "duration": 10,
    "start_time": "2024-10-27T14:35:08.004Z"
   },
   {
    "duration": 20,
    "start_time": "2024-10-27T14:35:08.015Z"
   },
   {
    "duration": 18,
    "start_time": "2024-10-27T14:35:08.037Z"
   },
   {
    "duration": 186,
    "start_time": "2024-10-27T14:35:08.056Z"
   },
   {
    "duration": 300,
    "start_time": "2024-10-27T14:35:08.243Z"
   },
   {
    "duration": 175,
    "start_time": "2024-10-27T14:35:08.544Z"
   },
   {
    "duration": 287,
    "start_time": "2024-10-27T14:35:08.720Z"
   },
   {
    "duration": 15,
    "start_time": "2024-10-27T14:35:09.008Z"
   },
   {
    "duration": 4,
    "start_time": "2024-10-27T14:35:09.025Z"
   },
   {
    "duration": 4,
    "start_time": "2024-10-27T14:35:09.030Z"
   },
   {
    "duration": 190,
    "start_time": "2024-10-27T14:35:09.036Z"
   },
   {
    "duration": 346,
    "start_time": "2024-10-27T14:35:09.228Z"
   },
   {
    "duration": 134,
    "start_time": "2024-10-27T14:35:09.575Z"
   },
   {
    "duration": 3,
    "start_time": "2024-10-27T14:35:09.710Z"
   },
   {
    "duration": 155,
    "start_time": "2024-10-27T14:35:09.714Z"
   },
   {
    "duration": 7,
    "start_time": "2024-10-27T14:35:09.871Z"
   },
   {
    "duration": 192,
    "start_time": "2024-10-27T14:35:09.881Z"
   },
   {
    "duration": 12,
    "start_time": "2024-10-27T14:35:10.075Z"
   },
   {
    "duration": 7,
    "start_time": "2024-10-27T14:35:10.089Z"
   },
   {
    "duration": 7,
    "start_time": "2024-10-27T14:35:10.098Z"
   },
   {
    "duration": 21,
    "start_time": "2024-10-27T14:35:10.106Z"
   },
   {
    "duration": 14,
    "start_time": "2024-10-27T14:35:10.158Z"
   },
   {
    "duration": 5,
    "start_time": "2024-10-27T14:35:32.098Z"
   },
   {
    "duration": 3,
    "start_time": "2024-10-27T14:35:41.109Z"
   },
   {
    "duration": 42,
    "start_time": "2024-10-27T14:35:41.113Z"
   },
   {
    "duration": 8,
    "start_time": "2024-10-27T14:35:41.156Z"
   },
   {
    "duration": 8,
    "start_time": "2024-10-27T14:35:41.166Z"
   },
   {
    "duration": 61,
    "start_time": "2024-10-27T14:35:41.176Z"
   },
   {
    "duration": 7,
    "start_time": "2024-10-27T14:35:41.238Z"
   },
   {
    "duration": 9,
    "start_time": "2024-10-27T14:35:41.247Z"
   },
   {
    "duration": 10,
    "start_time": "2024-10-27T14:35:41.260Z"
   },
   {
    "duration": 9,
    "start_time": "2024-10-27T14:35:41.271Z"
   },
   {
    "duration": 5,
    "start_time": "2024-10-27T14:35:41.281Z"
   },
   {
    "duration": 5,
    "start_time": "2024-10-27T14:35:41.287Z"
   },
   {
    "duration": 6,
    "start_time": "2024-10-27T14:35:41.294Z"
   },
   {
    "duration": 6,
    "start_time": "2024-10-27T14:35:41.301Z"
   },
   {
    "duration": 9,
    "start_time": "2024-10-27T14:35:41.308Z"
   },
   {
    "duration": 224,
    "start_time": "2024-10-27T14:35:41.319Z"
   },
   {
    "duration": 173,
    "start_time": "2024-10-27T14:35:41.545Z"
   },
   {
    "duration": 209,
    "start_time": "2024-10-27T14:35:41.719Z"
   },
   {
    "duration": 317,
    "start_time": "2024-10-27T14:35:41.929Z"
   },
   {
    "duration": 14,
    "start_time": "2024-10-27T14:35:42.257Z"
   },
   {
    "duration": 4,
    "start_time": "2024-10-27T14:35:42.273Z"
   },
   {
    "duration": 5,
    "start_time": "2024-10-27T14:35:42.278Z"
   },
   {
    "duration": 188,
    "start_time": "2024-10-27T14:35:42.284Z"
   },
   {
    "duration": 416,
    "start_time": "2024-10-27T14:35:42.473Z"
   },
   {
    "duration": 293,
    "start_time": "2024-10-27T14:35:42.891Z"
   },
   {
    "duration": 4,
    "start_time": "2024-10-27T14:35:43.186Z"
   },
   {
    "duration": 368,
    "start_time": "2024-10-27T14:35:43.191Z"
   },
   {
    "duration": 4,
    "start_time": "2024-10-27T14:35:43.561Z"
   },
   {
    "duration": 314,
    "start_time": "2024-10-27T14:35:43.567Z"
   },
   {
    "duration": 15,
    "start_time": "2024-10-27T14:35:43.883Z"
   },
   {
    "duration": 60,
    "start_time": "2024-10-27T14:35:43.900Z"
   },
   {
    "duration": 9,
    "start_time": "2024-10-27T14:35:43.961Z"
   },
   {
    "duration": 28,
    "start_time": "2024-10-27T14:35:43.971Z"
   },
   {
    "duration": 64,
    "start_time": "2024-10-27T14:35:44.000Z"
   },
   {
    "duration": 5,
    "start_time": "2024-10-27T14:36:14.610Z"
   },
   {
    "duration": 4,
    "start_time": "2024-10-27T14:36:26.833Z"
   },
   {
    "duration": 8,
    "start_time": "2024-10-27T14:37:56.527Z"
   },
   {
    "duration": 7,
    "start_time": "2024-10-27T14:38:10.091Z"
   },
   {
    "duration": 6,
    "start_time": "2024-10-27T14:38:14.038Z"
   },
   {
    "duration": 7,
    "start_time": "2024-10-27T14:39:34.522Z"
   },
   {
    "duration": 979,
    "start_time": "2024-10-27T14:40:51.422Z"
   },
   {
    "duration": 75,
    "start_time": "2024-10-27T14:40:52.403Z"
   },
   {
    "duration": 9,
    "start_time": "2024-10-27T14:40:52.479Z"
   },
   {
    "duration": 7,
    "start_time": "2024-10-27T14:40:52.490Z"
   },
   {
    "duration": 99,
    "start_time": "2024-10-27T14:40:52.498Z"
   },
   {
    "duration": 6,
    "start_time": "2024-10-27T14:40:52.598Z"
   },
   {
    "duration": 9,
    "start_time": "2024-10-27T14:40:52.605Z"
   },
   {
    "duration": 11,
    "start_time": "2024-10-27T14:40:52.615Z"
   },
   {
    "duration": 9,
    "start_time": "2024-10-27T14:40:52.628Z"
   },
   {
    "duration": 5,
    "start_time": "2024-10-27T14:40:52.639Z"
   },
   {
    "duration": 11,
    "start_time": "2024-10-27T14:40:52.645Z"
   },
   {
    "duration": 4,
    "start_time": "2024-10-27T14:40:52.658Z"
   },
   {
    "duration": 102,
    "start_time": "2024-10-27T14:40:52.665Z"
   },
   {
    "duration": 0,
    "start_time": "2024-10-27T14:40:52.769Z"
   },
   {
    "duration": 0,
    "start_time": "2024-10-27T14:40:52.771Z"
   },
   {
    "duration": 0,
    "start_time": "2024-10-27T14:40:52.772Z"
   },
   {
    "duration": 0,
    "start_time": "2024-10-27T14:40:52.773Z"
   },
   {
    "duration": 0,
    "start_time": "2024-10-27T14:40:52.774Z"
   },
   {
    "duration": 1,
    "start_time": "2024-10-27T14:40:52.774Z"
   },
   {
    "duration": 0,
    "start_time": "2024-10-27T14:40:52.776Z"
   },
   {
    "duration": 0,
    "start_time": "2024-10-27T14:40:52.777Z"
   },
   {
    "duration": 0,
    "start_time": "2024-10-27T14:40:52.778Z"
   },
   {
    "duration": 0,
    "start_time": "2024-10-27T14:40:52.779Z"
   },
   {
    "duration": 0,
    "start_time": "2024-10-27T14:40:52.781Z"
   },
   {
    "duration": 0,
    "start_time": "2024-10-27T14:40:52.781Z"
   },
   {
    "duration": 0,
    "start_time": "2024-10-27T14:40:52.782Z"
   },
   {
    "duration": 0,
    "start_time": "2024-10-27T14:40:52.784Z"
   },
   {
    "duration": 0,
    "start_time": "2024-10-27T14:40:52.784Z"
   },
   {
    "duration": 0,
    "start_time": "2024-10-27T14:40:52.785Z"
   },
   {
    "duration": 0,
    "start_time": "2024-10-27T14:40:52.786Z"
   },
   {
    "duration": 0,
    "start_time": "2024-10-27T14:40:52.787Z"
   },
   {
    "duration": 0,
    "start_time": "2024-10-27T14:40:52.788Z"
   },
   {
    "duration": 0,
    "start_time": "2024-10-27T14:40:52.789Z"
   },
   {
    "duration": 0,
    "start_time": "2024-10-27T14:40:52.789Z"
   },
   {
    "duration": 1226,
    "start_time": "2024-10-27T14:40:55.236Z"
   },
   {
    "duration": 76,
    "start_time": "2024-10-27T14:40:56.464Z"
   },
   {
    "duration": 8,
    "start_time": "2024-10-27T14:40:56.541Z"
   },
   {
    "duration": 18,
    "start_time": "2024-10-27T14:40:56.550Z"
   },
   {
    "duration": 61,
    "start_time": "2024-10-27T14:40:56.570Z"
   },
   {
    "duration": 7,
    "start_time": "2024-10-27T14:40:56.632Z"
   },
   {
    "duration": 7,
    "start_time": "2024-10-27T14:40:56.640Z"
   },
   {
    "duration": 12,
    "start_time": "2024-10-27T14:40:56.648Z"
   },
   {
    "duration": 21,
    "start_time": "2024-10-27T14:40:56.662Z"
   },
   {
    "duration": 5,
    "start_time": "2024-10-27T14:40:56.687Z"
   },
   {
    "duration": 4,
    "start_time": "2024-10-27T14:40:56.693Z"
   },
   {
    "duration": 5,
    "start_time": "2024-10-27T14:40:56.698Z"
   },
   {
    "duration": 197,
    "start_time": "2024-10-27T14:40:56.705Z"
   },
   {
    "duration": 0,
    "start_time": "2024-10-27T14:40:56.904Z"
   },
   {
    "duration": 0,
    "start_time": "2024-10-27T14:40:56.905Z"
   },
   {
    "duration": 0,
    "start_time": "2024-10-27T14:40:56.906Z"
   },
   {
    "duration": 0,
    "start_time": "2024-10-27T14:40:56.958Z"
   },
   {
    "duration": 0,
    "start_time": "2024-10-27T14:40:56.959Z"
   },
   {
    "duration": 0,
    "start_time": "2024-10-27T14:40:56.960Z"
   },
   {
    "duration": 0,
    "start_time": "2024-10-27T14:40:56.961Z"
   },
   {
    "duration": 0,
    "start_time": "2024-10-27T14:40:56.962Z"
   },
   {
    "duration": 0,
    "start_time": "2024-10-27T14:40:56.962Z"
   },
   {
    "duration": 0,
    "start_time": "2024-10-27T14:40:56.963Z"
   },
   {
    "duration": 0,
    "start_time": "2024-10-27T14:40:56.964Z"
   },
   {
    "duration": 0,
    "start_time": "2024-10-27T14:40:56.965Z"
   },
   {
    "duration": 0,
    "start_time": "2024-10-27T14:40:56.966Z"
   },
   {
    "duration": 0,
    "start_time": "2024-10-27T14:40:56.967Z"
   },
   {
    "duration": 0,
    "start_time": "2024-10-27T14:40:56.967Z"
   },
   {
    "duration": 0,
    "start_time": "2024-10-27T14:40:56.968Z"
   },
   {
    "duration": 0,
    "start_time": "2024-10-27T14:40:56.969Z"
   },
   {
    "duration": 0,
    "start_time": "2024-10-27T14:40:56.970Z"
   },
   {
    "duration": 0,
    "start_time": "2024-10-27T14:40:56.971Z"
   },
   {
    "duration": 0,
    "start_time": "2024-10-27T14:40:56.971Z"
   },
   {
    "duration": 0,
    "start_time": "2024-10-27T14:40:56.972Z"
   },
   {
    "duration": 8,
    "start_time": "2024-10-27T14:42:11.130Z"
   },
   {
    "duration": 3,
    "start_time": "2024-10-27T14:43:32.254Z"
   },
   {
    "duration": 12,
    "start_time": "2024-10-27T14:43:36.990Z"
   },
   {
    "duration": 10,
    "start_time": "2024-10-27T14:47:01.624Z"
   },
   {
    "duration": 18,
    "start_time": "2024-10-27T14:47:31.361Z"
   },
   {
    "duration": 942,
    "start_time": "2024-10-27T14:52:52.487Z"
   },
   {
    "duration": 72,
    "start_time": "2024-10-27T14:52:53.430Z"
   },
   {
    "duration": 7,
    "start_time": "2024-10-27T14:52:53.503Z"
   },
   {
    "duration": 8,
    "start_time": "2024-10-27T14:52:53.511Z"
   },
   {
    "duration": 69,
    "start_time": "2024-10-27T14:52:53.521Z"
   },
   {
    "duration": 6,
    "start_time": "2024-10-27T14:52:53.591Z"
   },
   {
    "duration": 8,
    "start_time": "2024-10-27T14:52:53.598Z"
   },
   {
    "duration": 8,
    "start_time": "2024-10-27T14:52:53.607Z"
   },
   {
    "duration": 12,
    "start_time": "2024-10-27T14:52:53.616Z"
   },
   {
    "duration": 5,
    "start_time": "2024-10-27T14:52:53.629Z"
   },
   {
    "duration": 5,
    "start_time": "2024-10-27T14:52:53.636Z"
   },
   {
    "duration": 103,
    "start_time": "2024-10-27T14:52:53.642Z"
   },
   {
    "duration": 0,
    "start_time": "2024-10-27T14:52:53.747Z"
   },
   {
    "duration": 0,
    "start_time": "2024-10-27T14:52:53.748Z"
   },
   {
    "duration": 0,
    "start_time": "2024-10-27T14:52:53.750Z"
   },
   {
    "duration": 0,
    "start_time": "2024-10-27T14:52:53.750Z"
   },
   {
    "duration": 0,
    "start_time": "2024-10-27T14:52:53.751Z"
   },
   {
    "duration": 0,
    "start_time": "2024-10-27T14:52:53.752Z"
   },
   {
    "duration": 0,
    "start_time": "2024-10-27T14:52:53.753Z"
   },
   {
    "duration": 0,
    "start_time": "2024-10-27T14:52:53.754Z"
   },
   {
    "duration": 0,
    "start_time": "2024-10-27T14:52:53.757Z"
   },
   {
    "duration": 0,
    "start_time": "2024-10-27T14:52:53.758Z"
   },
   {
    "duration": 0,
    "start_time": "2024-10-27T14:52:53.765Z"
   },
   {
    "duration": 0,
    "start_time": "2024-10-27T14:52:53.766Z"
   },
   {
    "duration": 0,
    "start_time": "2024-10-27T14:52:53.766Z"
   },
   {
    "duration": 0,
    "start_time": "2024-10-27T14:52:53.767Z"
   },
   {
    "duration": 0,
    "start_time": "2024-10-27T14:52:53.767Z"
   },
   {
    "duration": 0,
    "start_time": "2024-10-27T14:52:53.768Z"
   },
   {
    "duration": 0,
    "start_time": "2024-10-27T14:52:53.768Z"
   },
   {
    "duration": 0,
    "start_time": "2024-10-27T14:52:53.769Z"
   },
   {
    "duration": 0,
    "start_time": "2024-10-27T14:52:53.775Z"
   },
   {
    "duration": 0,
    "start_time": "2024-10-27T14:52:53.775Z"
   },
   {
    "duration": 0,
    "start_time": "2024-10-27T14:52:53.776Z"
   },
   {
    "duration": 5,
    "start_time": "2024-10-27T14:53:53.631Z"
   },
   {
    "duration": 6,
    "start_time": "2024-10-27T14:54:22.392Z"
   },
   {
    "duration": 6,
    "start_time": "2024-10-27T14:54:46.075Z"
   },
   {
    "duration": 14,
    "start_time": "2024-10-27T14:55:07.204Z"
   },
   {
    "duration": 10,
    "start_time": "2024-10-27T14:57:17.694Z"
   },
   {
    "duration": 10,
    "start_time": "2024-10-27T14:57:22.289Z"
   },
   {
    "duration": 11,
    "start_time": "2024-10-27T14:59:17.075Z"
   },
   {
    "duration": 13,
    "start_time": "2024-10-27T14:59:34.280Z"
   },
   {
    "duration": 14,
    "start_time": "2024-10-27T14:59:41.322Z"
   },
   {
    "duration": 12,
    "start_time": "2024-10-27T15:00:00.234Z"
   },
   {
    "duration": 12,
    "start_time": "2024-10-27T15:00:56.118Z"
   },
   {
    "duration": 18,
    "start_time": "2024-10-27T15:01:13.172Z"
   },
   {
    "duration": 9,
    "start_time": "2024-10-27T15:04:29.975Z"
   },
   {
    "duration": 5,
    "start_time": "2024-10-27T15:04:42.109Z"
   },
   {
    "duration": 12,
    "start_time": "2024-10-27T15:05:20.853Z"
   },
   {
    "duration": 26,
    "start_time": "2024-10-27T15:13:45.257Z"
   },
   {
    "duration": 3,
    "start_time": "2024-10-27T15:13:56.045Z"
   },
   {
    "duration": 11,
    "start_time": "2024-10-27T15:18:03.615Z"
   },
   {
    "duration": 8,
    "start_time": "2024-10-27T15:18:10.130Z"
   },
   {
    "duration": 25,
    "start_time": "2024-10-27T15:18:23.050Z"
   },
   {
    "duration": 14,
    "start_time": "2024-10-27T15:18:38.122Z"
   },
   {
    "duration": 2,
    "start_time": "2024-10-27T15:19:56.035Z"
   },
   {
    "duration": 106,
    "start_time": "2024-10-27T15:20:12.677Z"
   },
   {
    "duration": 2,
    "start_time": "2024-10-27T15:20:19.110Z"
   },
   {
    "duration": 3,
    "start_time": "2024-10-27T15:20:28.031Z"
   },
   {
    "duration": 88,
    "start_time": "2024-10-27T15:20:56.603Z"
   },
   {
    "duration": 3,
    "start_time": "2024-10-27T15:21:04.984Z"
   },
   {
    "duration": 23,
    "start_time": "2024-10-27T15:21:57.556Z"
   },
   {
    "duration": 1002,
    "start_time": "2024-10-27T15:22:28.905Z"
   },
   {
    "duration": 78,
    "start_time": "2024-10-27T15:22:29.909Z"
   },
   {
    "duration": 8,
    "start_time": "2024-10-27T15:22:29.989Z"
   },
   {
    "duration": 7,
    "start_time": "2024-10-27T15:22:29.998Z"
   },
   {
    "duration": 110,
    "start_time": "2024-10-27T15:22:30.007Z"
   },
   {
    "duration": 7,
    "start_time": "2024-10-27T15:22:30.119Z"
   },
   {
    "duration": 11,
    "start_time": "2024-10-27T15:22:30.128Z"
   },
   {
    "duration": 15,
    "start_time": "2024-10-27T15:22:30.141Z"
   },
   {
    "duration": 16,
    "start_time": "2024-10-27T15:22:30.167Z"
   },
   {
    "duration": 20,
    "start_time": "2024-10-27T15:22:30.185Z"
   },
   {
    "duration": 17,
    "start_time": "2024-10-27T15:22:30.206Z"
   },
   {
    "duration": 2,
    "start_time": "2024-10-27T15:22:30.225Z"
   },
   {
    "duration": 123,
    "start_time": "2024-10-27T15:22:30.229Z"
   },
   {
    "duration": 227,
    "start_time": "2024-10-27T15:22:30.355Z"
   },
   {
    "duration": 255,
    "start_time": "2024-10-27T15:22:30.584Z"
   },
   {
    "duration": 192,
    "start_time": "2024-10-27T15:22:30.840Z"
   },
   {
    "duration": 302,
    "start_time": "2024-10-27T15:22:31.034Z"
   },
   {
    "duration": 12,
    "start_time": "2024-10-27T15:22:31.338Z"
   },
   {
    "duration": 39,
    "start_time": "2024-10-27T15:22:31.357Z"
   },
   {
    "duration": 25,
    "start_time": "2024-10-27T15:22:31.398Z"
   },
   {
    "duration": 204,
    "start_time": "2024-10-27T15:22:31.424Z"
   },
   {
    "duration": 286,
    "start_time": "2024-10-27T15:22:31.629Z"
   },
   {
    "duration": 151,
    "start_time": "2024-10-27T15:22:31.916Z"
   },
   {
    "duration": 7,
    "start_time": "2024-10-27T15:22:32.068Z"
   },
   {
    "duration": 149,
    "start_time": "2024-10-27T15:22:32.076Z"
   },
   {
    "duration": 5,
    "start_time": "2024-10-27T15:22:32.226Z"
   },
   {
    "duration": 165,
    "start_time": "2024-10-27T15:22:32.232Z"
   },
   {
    "duration": 11,
    "start_time": "2024-10-27T15:22:32.399Z"
   },
   {
    "duration": 7,
    "start_time": "2024-10-27T15:22:32.411Z"
   },
   {
    "duration": 23,
    "start_time": "2024-10-27T15:22:32.420Z"
   },
   {
    "duration": 88,
    "start_time": "2024-10-27T15:22:32.445Z"
   },
   {
    "duration": 10,
    "start_time": "2024-10-27T15:22:32.535Z"
   },
   {
    "duration": 131,
    "start_time": "2024-10-27T15:27:46.183Z"
   },
   {
    "duration": 132,
    "start_time": "2024-10-27T15:28:15.872Z"
   },
   {
    "duration": 11,
    "start_time": "2024-10-27T15:39:21.403Z"
   },
   {
    "duration": 73,
    "start_time": "2024-10-27T15:41:26.603Z"
   },
   {
    "duration": 9,
    "start_time": "2024-10-27T15:41:31.884Z"
   },
   {
    "duration": 23,
    "start_time": "2024-10-27T15:43:43.433Z"
   },
   {
    "duration": 1329,
    "start_time": "2024-10-28T06:56:10.549Z"
   },
   {
    "duration": 205,
    "start_time": "2024-10-28T06:56:11.880Z"
   },
   {
    "duration": 10,
    "start_time": "2024-10-28T06:56:12.086Z"
   },
   {
    "duration": 8,
    "start_time": "2024-10-28T06:56:12.098Z"
   },
   {
    "duration": 175,
    "start_time": "2024-10-28T06:56:12.108Z"
   },
   {
    "duration": 7,
    "start_time": "2024-10-28T06:56:12.285Z"
   },
   {
    "duration": 83,
    "start_time": "2024-10-28T06:56:12.293Z"
   },
   {
    "duration": 11,
    "start_time": "2024-10-28T06:56:12.377Z"
   },
   {
    "duration": 38,
    "start_time": "2024-10-28T06:56:12.390Z"
   },
   {
    "duration": 45,
    "start_time": "2024-10-28T06:56:12.431Z"
   },
   {
    "duration": 17,
    "start_time": "2024-10-28T06:56:12.478Z"
   },
   {
    "duration": 3,
    "start_time": "2024-10-28T06:56:12.497Z"
   },
   {
    "duration": 200,
    "start_time": "2024-10-28T06:56:12.501Z"
   },
   {
    "duration": 226,
    "start_time": "2024-10-28T06:56:12.703Z"
   },
   {
    "duration": 284,
    "start_time": "2024-10-28T06:56:12.931Z"
   },
   {
    "duration": 200,
    "start_time": "2024-10-28T06:56:13.217Z"
   },
   {
    "duration": 278,
    "start_time": "2024-10-28T06:56:13.418Z"
   },
   {
    "duration": 14,
    "start_time": "2024-10-28T06:56:13.698Z"
   },
   {
    "duration": 10,
    "start_time": "2024-10-28T06:56:13.714Z"
   },
   {
    "duration": 5,
    "start_time": "2024-10-28T06:56:13.725Z"
   },
   {
    "duration": 200,
    "start_time": "2024-10-28T06:56:13.731Z"
   },
   {
    "duration": 332,
    "start_time": "2024-10-28T06:56:13.933Z"
   },
   {
    "duration": 163,
    "start_time": "2024-10-28T06:56:14.267Z"
   },
   {
    "duration": 4,
    "start_time": "2024-10-28T06:56:14.432Z"
   },
   {
    "duration": 157,
    "start_time": "2024-10-28T06:56:14.437Z"
   },
   {
    "duration": 4,
    "start_time": "2024-10-28T06:56:14.595Z"
   },
   {
    "duration": 162,
    "start_time": "2024-10-28T06:56:14.600Z"
   },
   {
    "duration": 19,
    "start_time": "2024-10-28T06:56:14.765Z"
   },
   {
    "duration": 9,
    "start_time": "2024-10-28T06:56:14.785Z"
   },
   {
    "duration": 11,
    "start_time": "2024-10-28T06:56:14.795Z"
   },
   {
    "duration": 31,
    "start_time": "2024-10-28T06:56:14.807Z"
   },
   {
    "duration": 46,
    "start_time": "2024-10-28T06:56:14.840Z"
   },
   {
    "duration": 985,
    "start_time": "2024-10-29T05:03:00.439Z"
   },
   {
    "duration": 406,
    "start_time": "2024-10-29T05:03:38.248Z"
   }
  ],
  "kernelspec": {
   "display_name": "Python 3 (ipykernel)",
   "language": "python",
   "name": "python3"
  },
  "language_info": {
   "codemirror_mode": {
    "name": "ipython",
    "version": 3
   },
   "file_extension": ".py",
   "mimetype": "text/x-python",
   "name": "python",
   "nbconvert_exporter": "python",
   "pygments_lexer": "ipython3",
   "version": "3.11.7"
  },
  "toc": {
   "base_numbering": 1,
   "nav_menu": {},
   "number_sections": true,
   "sideBar": true,
   "skip_h1_title": true,
   "title_cell": "Table of Contents",
   "title_sidebar": "Contents",
   "toc_cell": false,
   "toc_position": {
    "height": "calc(100% - 180px)",
    "left": "10px",
    "top": "150px",
    "width": "165px"
   },
   "toc_section_display": true,
   "toc_window_display": false
  }
 },
 "nbformat": 4,
 "nbformat_minor": 4
}
